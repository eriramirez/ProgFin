{
 "cells": [
  {
   "cell_type": "code",
   "execution_count": 1,
   "metadata": {},
   "outputs": [
    {
     "ename": "SyntaxError",
     "evalue": "invalid syntax (2604119821.py, line 28)",
     "output_type": "error",
     "traceback": [
      "\u001b[1;36m  File \u001b[1;32m\"C:\\Users\\L00616607\\AppData\\Local\\Temp\\ipykernel_31412\\2604119821.py\"\u001b[1;36m, line \u001b[1;32m28\u001b[0m\n\u001b[1;33m    PCALL = Call(\u001b[0m\n\u001b[1;37m    ^\u001b[0m\n\u001b[1;31mSyntaxError\u001b[0m\u001b[1;31m:\u001b[0m invalid syntax\n"
     ]
    }
   ],
   "source": [
    "import numpy as np\n",
    "import pandas as pd\n",
    "import pandas_datareader.data as wb\n",
    "from scipy.stats import norm\n",
    "\n",
    "my_volat = .28\n",
    "my_time = 0.75  \n",
    "my_excercise_price = 40\n",
    "my_market_price = 43.5\n",
    "my_rf_rate = .085\n",
    "\n",
    "def d1(my_market_price, my_excercise_price, my_rf_rate, my_volat, my_time) :\n",
    "    return (np.log(my_market_price/my_excercise_price) + ((my_rf_rate + my_volat**2)/2)*my_time) / (my_volat * np.sqrt(my_time))\n",
    "\n",
    "def d2(my_market_price, my_excercise_price, my_rf_rate, my_volat, my_time) :\n",
    "    return (np.log(my_market_price/my_excercise_price) + ((my_rf_rate - my_volat**2)/2)*my_time) / (my_volat * np.sqrt(my_time))\n",
    "\n",
    "def Call(my_market_price, my_excercise_price, my_rf_rate, my_volat, my_time) :\n",
    "    d_uno = d1(my_market_price, my_excercise_price, my_rf_rate, my_volat, my_time)\n",
    "    d_dos = d2(my_market_price, my_excercise_price, my_rf_rate, my_volat, my_time)\n",
    "    return (my_market_price*norm.cdf(d_uno)) - (my_excercise_price*np.exp(-my_rf_rate*my_time)*norm.cdf(d_dos))\n",
    "\n",
    "def Put(my_market_price, my_excercise_price, my_rf_rate, my_volat, my_time) :\n",
    "    d_uno = d1(my_market_price, my_excercise_price, my_rf_rate, my_volat, my_time)\n",
    "    d_dos = d2(my_market_price, my_excercise_price, my_rf_rate, my_volat, my_time)\n",
    "    return ((my_excercise_price*np.exp(-my_rf_rate*my_time)*norm.cdf(-d_dos)) - (my_market_price*norm.cdf(-d_uno))\n",
    "\n",
    "PCALL = Call(\n",
    "    my_market_price,\n",
    "    my_excercise_price,\n",
    "    my_rf_rate,\n",
    "    my_volat,\n",
    "    my_time\n",
    ")\n",
    "\n",
    "PPUT = Put(\n",
    "    my_market_price,\n",
    "    my_excercise_price,\n",
    "    my_rf_rate,\n",
    "    my_volat,\n",
    "    my_time\n",
    ")\n",
    "print(f\"\\nPrecio Call: \\n\", {PCALL},\"\\n\")\n",
    "print(f\"\\nPrecio Put: \\n\", {PPUT},\"\\n\")"
   ]
  }
 ],
 "metadata": {
  "kernelspec": {
   "display_name": "Python 3.9.12 ('progfin')",
   "language": "python",
   "name": "python3"
  },
  "language_info": {
   "codemirror_mode": {
    "name": "ipython",
    "version": 3
   },
   "file_extension": ".py",
   "mimetype": "text/x-python",
   "name": "python",
   "nbconvert_exporter": "python",
   "pygments_lexer": "ipython3",
   "version": "3.9.12"
  },
  "orig_nbformat": 4,
  "vscode": {
   "interpreter": {
    "hash": "c8d1524f2d7978f0af6c708b78e553d377be34eeed69628e4260b333d94b895a"
   }
  }
 },
 "nbformat": 4,
 "nbformat_minor": 2
}
