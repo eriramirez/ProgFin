{
 "cells": [
  {
   "cell_type": "markdown",
   "metadata": {},
   "source": [
    "# Bond valuation\n",
    "\n",
    "Intro to Bonds XXXXXXXXXX"
   ]
  },
  {
   "cell_type": "markdown",
   "metadata": {},
   "source": [
    "We define a few variables that we will use\n",
    "- $FV$ is the _Face Value_ that represents XXXXXXXXXXX\n",
    "- $\\text{coupon rate}$ is the annualized interest rate paid by the bond.\n",
    "- $\\text{market rate}$ is the annualized interest rate that prevails in the market for a given level of risk.\n",
    "- $\\text{frequency}$ is the number of coupons paid by year. \n",
    "- $r$ is the _Yield to Maturity_.\n",
    "  \n",
    "    $$\n",
    "    r = \\frac{\\text{market rate}}{\\text{frequency} * FV}\n",
    "    $$\n",
    "\n",
    "To calculate the _Bond Price_ $P(r)$ we use the following expression.\n",
    "\n",
    "$$\n",
    "    P(r) = {\\color{chocolate} C} * {\\color{royalblue}PV_A} + {\\color{purple}PV_{FV}}\n",
    "$$\n",
    "\n",
    "Where:\n",
    "\n",
    "- $C$ is the _Periodic Coupon Payment_.\n",
    "\n",
    "    $$\n",
    "        C = {\\color{chocolate} \\frac{\\text{coupon rate}}{\\text{frequency} * FV}}\n",
    "    $$\n",
    "\n",
    "- $PV_A$ is the _Present Value of an Annuity_.\n",
    "  \n",
    "    $$\n",
    "        PV_A = {\\color{royalblue} \\frac{1-(1+r)^{-n}}{r}}\n",
    "    $$\n",
    "\n",
    "- $PV_{FV}$ is the _Present Value of the Face Value_.\n",
    "\n",
    "    $$\n",
    "        PV_F = {\\color{purple}\\frac{F}{(1+r)^{n}}}\n",
    "    $$"
   ]
  },
  {
   "cell_type": "code",
   "execution_count": 21,
   "metadata": {},
   "outputs": [],
   "source": [
    "# We create some example values\n",
    "my_market_rate = .08\n",
    "my_coupon_rate = .05\n",
    "my_frequency = 4\n",
    "my_face_value = 100\n",
    "my_years = 2"
   ]
  },
  {
   "cell_type": "code",
   "execution_count": 22,
   "metadata": {},
   "outputs": [],
   "source": [
    "def get_bond_price(market_rate, coupon_rate, frequency, face_value, years):\n",
    "    coupon = coupon_rate / frequency * face_value\n",
    "    required_rate = market_rate / frequency\n",
    "    n_coupons = years * frequency\n",
    "    pv_coupon = coupon * ((1 - (1 + required_rate) ** (-n_coupons)) / required_rate)\n",
    "    pv_fv = face_value / (1 + required_rate) ** n_coupons\n",
    "    bond_price = pv_coupon + pv_fv\n",
    "    return bond_price\n"
   ]
  },
  {
   "cell_type": "markdown",
   "metadata": {},
   "source": [
    "Then, use the defined function to calculate the bonde price."
   ]
  },
  {
   "cell_type": "code",
   "execution_count": 23,
   "metadata": {},
   "outputs": [
    {
     "name": "stdout",
     "output_type": "stream",
     "text": [
      "The market bond price is 94.5059 USD\n"
     ]
    }
   ],
   "source": [
    "my_market_bond_price = get_bond_price(\n",
    "    my_market_rate, \n",
    "    my_coupon_rate, \n",
    "    my_frequency, \n",
    "    my_face_value, \n",
    "    my_years\n",
    ")\n",
    "print(f\"The market bond price is {my_market_bond_price:4.4f} USD\")\n"
   ]
  },
  {
   "cell_type": "markdown",
   "metadata": {},
   "source": [
    "# Find the Yield to Maturity of a Bond\n",
    "\n",
    "A different output that we could calculate is the YTM rate. Given that the formula cannot be symbolically solved we use numeric solving by doing multiple iterations. In this case we use `scipy.optimize.fsolve` function, which will perform the iterative search by itself.\n",
    "More details can be found [here](https://docs.scipy.org/doc/scipy/reference/generated/scipy.optimize.fsolve.html)\n",
    "\n",
    "First we need to define a function named `find_market_value` that wraps `fsolve` for convenience."
   ]
  },
  {
   "cell_type": "code",
   "execution_count": 24,
   "metadata": {},
   "outputs": [],
   "source": [
    "from scipy.optimize import fsolve"
   ]
  },
  {
   "cell_type": "code",
   "execution_count": 25,
   "metadata": {},
   "outputs": [],
   "source": [
    "def function_to_solve(independant_variable, market_bond_price, interest_rate, frequency, face_value, years):\n",
    "    \"\"\"fsolve will use this method many times by modifying independant variable until it returns 0.\n",
    "    In other words, fsolve will find the roots of this method.\n",
    "\n",
    "    Args:\n",
    "        independant_variable (float): represents market_value.\n",
    "        fixed_params (list): all the other parameters that don't change.\n",
    "\n",
    "    Returns:\n",
    "        float: get_bond_price(independant_variable, *other_params) - market_bond_price\n",
    "    \"\"\"\n",
    "    return get_bond_price(independant_variable, interest_rate, frequency, face_value, years) - market_bond_price\n",
    "\n",
    "def find_market_rate(\n",
    "    market_bond_price:float,\n",
    "    initial_guess:float, \n",
    "    coupon_rate:float, \n",
    "    frequency:float,\n",
    "    face_value:float, \n",
    "    years:float\n",
    "    ):\n",
    "    \"\"\"Solve the yield to maturity function for market_bond_price\n",
    "\n",
    "    Args:\n",
    "        market_bond_price (float): value to solve for\n",
    "        initial_guess (float): a guess of market_rate to initialize the numerical solver\n",
    "        interest_rate (float): interest coupon rate\n",
    "        frequency (float): coupons paid per year\n",
    "        face_value (float): nominal value at the future\n",
    "        years (float): life remaining of the bond in years\n",
    "    \"\"\" \n",
    "    parameters = (market_bond_price, coupon_rate, frequency, face_value, years)\n",
    "    return fsolve(function_to_solve, initial_guess, parameters)[0]"
   ]
  },
  {
   "cell_type": "code",
   "execution_count": null,
   "metadata": {},
   "outputs": [],
   "source": []
  },
  {
   "cell_type": "code",
   "execution_count": 26,
   "metadata": {},
   "outputs": [
    {
     "name": "stdout",
     "output_type": "stream",
     "text": [
      "The Yield to Maturity of this bond is 0.08\n"
     ]
    }
   ],
   "source": [
    "ytm = find_market_rate(\n",
    "    market_bond_price=my_market_bond_price,\n",
    "    initial_guess=0.10,\n",
    "    coupon_rate=my_coupon_rate,\n",
    "    frequency=my_frequency,\n",
    "    face_value=my_face_value,\n",
    "    years=my_years\n",
    ")\n",
    "\n",
    "print(f\"The Yield to Maturity of this bond is {ytm:.04}\")"
   ]
  },
  {
   "cell_type": "code",
   "execution_count": 27,
   "metadata": {},
   "outputs": [],
   "source": [
    "import matplotlib.pyplot as plt\n",
    "import numpy as np"
   ]
  },
  {
   "cell_type": "code",
   "execution_count": 28,
   "metadata": {},
   "outputs": [
    {
     "name": "stderr",
     "output_type": "stream",
     "text": [
      "/var/folders/4p/1qzxhhhn5qjd1ldnjc3_4d540000gn/T/ipykernel_26422/3780985090.py:5: RuntimeWarning: invalid value encountered in double_scalars\n",
      "  pv_coupon = coupon * ((1 - (1 + required_rate) ** (-n_coupons)) / required_rate)\n"
     ]
    },
    {
     "data": {
      "image/png": "[encoded data removed]",
      "text/plain": [
       "<Figure size 432x288 with 1 Axes>"
      ]
     },
     "metadata": {
      "needs_background": "light"
     },
     "output_type": "display_data"
    }
   ],
   "source": [
    "r = np.linspace(0, 0.10, 100)\n",
    "b = [get_bond_price(x, my_coupon_rate, my_frequency, my_face_value, my_years) for x in r]\n",
    "plt.plot(r*100, b, label='bond price function')\n",
    "plt.scatter([ytm*100], [my_market_bond_price], label=f'market rate at {my_market_bond_price:.4f} USD')\n",
    "plt.xlabel(\"Market Rate [%]\")\n",
    "plt.ylabel(\"Bond Price [USD]\")\n",
    "plt.legend()\n",
    "plt.show()"
   ]
  },
  {
   "cell_type": "code",
   "execution_count": null,
   "metadata": {},
   "outputs": [],
   "source": []
  }
 ],
 "metadata": {
  "kernelspec": {
   "display_name": "Python 3.9.12 ('diametery')",
   "language": "python",
   "name": "python3"
  },
  "language_info": {
   "codemirror_mode": {
    "name": "ipython",
    "version": 3
   },
   "file_extension": ".py",
   "mimetype": "text/x-python",
   "name": "python",
   "nbconvert_exporter": "python",
   "pygments_lexer": "ipython3",
   "version": "3.9.12"
  },
  "orig_nbformat": 4,
  "vscode": {
   "interpreter": {
    "hash": "ae835ad419c2bef86aa0f08a49457998c2f42aabb573a5f7e65f992230efd14b"
   }
  }
 },
 "nbformat": 4,
 "nbformat_minor": 2
}
