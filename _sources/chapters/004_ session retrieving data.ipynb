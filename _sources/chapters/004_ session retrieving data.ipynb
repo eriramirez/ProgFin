{
 "cells": [
  {
   "cell_type": "markdown",
   "metadata": {},
   "source": [
    "# Retrieving Data (Incomplete)"
   ]
  },
  {
   "cell_type": "markdown",
   "metadata": {},
   "source": [
    "Install `yfinance` with the following command\n",
    "```\n",
    "! pip install yfinance\n",
    "```"
   ]
  },
  {
   "cell_type": "code",
   "execution_count": 3,
   "metadata": {},
   "outputs": [],
   "source": [
    "import yfinance as yf\n",
    "from pandas_datareader.data import DataReader\n",
    "from datetime import datetime, timedelta\n",
    "import pandas as pd\n",
    "import numpy as np"
   ]
  },
  {
   "cell_type": "code",
   "execution_count": null,
   "metadata": {},
   "outputs": [],
   "source": [
    "#create the formula to get the dates of the last 5 years.\n",
    "five_years = timedelta(days=365*5)\n",
    "now = datetime.now()\n",
    "five_years_ago = now - five_years\n",
    "print(now)\n",
    "print(five_years_ago)"
   ]
  },
  {
   "cell_type": "code",
   "execution_count": null,
   "metadata": {},
   "outputs": [],
   "source": []
  },
  {
   "cell_type": "code",
   "execution_count": 12,
   "metadata": {},
   "outputs": [
    {
     "data": {
      "text/plain": [
       "{'GOOG': 'USD', 'GCC.MX': 'MXN'}"
      ]
     },
     "execution_count": 12,
     "metadata": {},
     "output_type": "execute_result"
    }
   ],
   "source": [
    "# Get currency\n",
    "def get_currency (*tickers):  # obtain the currency for each ticker\n",
    "    currencies = dict()\n",
    "    for ticker in tickers :\n",
    "        t = yf.Ticker(ticker)\n",
    "        currencies[ticker] = t.info[\"currency\"]\n",
    "    return currencies\n",
    "get_currency(\"GOOG\", \"GCC.MX\")\n"
   ]
  },
  {
   "cell_type": "code",
   "execution_count": null,
   "metadata": {},
   "outputs": [],
   "source": [
    "# Get tickers\n",
    "def get_tickers(*tickers): \n",
    "    for ticker in tickers :\n",
    "        \n",
    "        # retrieve data (como la sesión 003)\n",
    "        # revisar el tipo de cambio con yfinance de cada ticker\n",
    "        # hacer un for loop para unificar las acciones que tienen el mismo tipo de cambio\n",
    "\n",
    "# crear un diccionario ( collections defaultdict )\n"
   ]
  },
  {
   "cell_type": "code",
   "execution_count": null,
   "metadata": {},
   "outputs": [],
   "source": [
    "# Get Close Price for each ticker\n",
    "def get_close_price(*tickers) :\n",
    "    for "
   ]
  }
 ],
 "metadata": {
  "kernelspec": {
   "display_name": "Python 3.9.13 ('ejemplo')",
   "language": "python",
   "name": "python3"
  },
  "language_info": {
   "codemirror_mode": {
    "name": "ipython",
    "version": 3
   },
   "file_extension": ".py",
   "mimetype": "text/x-python",
   "name": "python",
   "nbconvert_exporter": "python",
   "pygments_lexer": "ipython3",
   "version": "3.9.13"
  },
  "orig_nbformat": 4,
  "vscode": {
   "interpreter": {
    "hash": "6114b0afed7652bc0ab613c9b53416ca55dd185f4e3d467de7a94a4d2c7f4e2c"
   }
  }
 },
 "nbformat": 4,
 "nbformat_minor": 2
}
