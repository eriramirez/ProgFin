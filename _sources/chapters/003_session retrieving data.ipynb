{
 "cells": [
  {
   "cell_type": "markdown",
   "metadata": {},
   "source": [
    "# Portfolio Optimization"
   ]
  },
  {
   "cell_type": "code",
   "execution_count": 60,
   "metadata": {},
   "outputs": [
    {
     "name": "stdout",
     "output_type": "stream",
     "text": [
      "Requirement already satisfied: pandas_datareader in c:\\users\\l00616607\\anaconda3\\envs\\progfin\\lib\\site-packages (0.10.0)\n",
      "Requirement already satisfied: pandas>=0.23 in c:\\users\\l00616607\\anaconda3\\envs\\progfin\\lib\\site-packages (from pandas_datareader) (1.4.4)\n",
      "Requirement already satisfied: lxml in c:\\users\\l00616607\\anaconda3\\envs\\progfin\\lib\\site-packages (from pandas_datareader) (4.9.1)\n",
      "Requirement already satisfied: requests>=2.19.0 in c:\\users\\l00616607\\anaconda3\\envs\\progfin\\lib\\site-packages (from pandas_datareader) (2.28.1)\n",
      "Requirement already satisfied: python-dateutil>=2.8.1 in c:\\users\\l00616607\\anaconda3\\envs\\progfin\\lib\\site-packages (from pandas>=0.23->pandas_datareader) (2.8.2)\n",
      "Requirement already satisfied: pytz>=2020.1 in c:\\users\\l00616607\\anaconda3\\envs\\progfin\\lib\\site-packages (from pandas>=0.23->pandas_datareader) (2022.1)\n",
      "Requirement already satisfied: numpy>=1.18.5 in c:\\users\\l00616607\\anaconda3\\envs\\progfin\\lib\\site-packages (from pandas>=0.23->pandas_datareader) (1.23.2)\n",
      "Requirement already satisfied: charset-normalizer<3,>=2 in c:\\users\\l00616607\\anaconda3\\envs\\progfin\\lib\\site-packages (from requests>=2.19.0->pandas_datareader) (2.0.4)\n",
      "Requirement already satisfied: idna<4,>=2.5 in c:\\users\\l00616607\\anaconda3\\envs\\progfin\\lib\\site-packages (from requests>=2.19.0->pandas_datareader) (3.3)\n",
      "Requirement already satisfied: certifi>=2017.4.17 in c:\\users\\l00616607\\anaconda3\\envs\\progfin\\lib\\site-packages (from requests>=2.19.0->pandas_datareader) (2022.6.15)\n",
      "Requirement already satisfied: urllib3<1.27,>=1.21.1 in c:\\users\\l00616607\\anaconda3\\envs\\progfin\\lib\\site-packages (from requests>=2.19.0->pandas_datareader) (1.26.11)\n",
      "Requirement already satisfied: six>=1.5 in c:\\users\\l00616607\\anaconda3\\envs\\progfin\\lib\\site-packages (from python-dateutil>=2.8.1->pandas>=0.23->pandas_datareader) (1.16.0)\n"
     ]
    }
   ],
   "source": [
    "! pip install pandas_datareader"
   ]
  },
  {
   "cell_type": "code",
   "execution_count": 48,
   "metadata": {},
   "outputs": [],
   "source": [
    "# import the necessary libraries \n",
    "from pandas_datareader.data import DataReader\n",
    "from datetime import datetime, timedelta\n",
    "import pandas as pd\n",
    "import numpy as np"
   ]
  },
  {
   "cell_type": "code",
   "execution_count": 11,
   "metadata": {},
   "outputs": [
    {
     "name": "stdout",
     "output_type": "stream",
     "text": [
      "2022-09-18 12:52:24.397687\n",
      "2017-09-19 12:52:24.397687\n"
     ]
    }
   ],
   "source": [
    "#create the formula to get the dates of the last 5 years.\n",
    "five_years = timedelta(days=365*5, )\n",
    "now = datetime.now()\n",
    "five_years_ago = now - five_years\n",
    "print(now)\n",
    "print(five_years_ago)"
   ]
  },
  {
   "cell_type": "code",
   "execution_count": 18,
   "metadata": {},
   "outputs": [],
   "source": [
    "ticker = 'GOOG'\n",
    "data_source = 'yahoo'\n",
    "goog = DataReader(ticker, data_source, five_years_ago, now)"
   ]
  },
  {
   "cell_type": "code",
   "execution_count": 19,
   "metadata": {},
   "outputs": [],
   "source": [
    "ticker = 'CEMEXCPO.MX'\n",
    "data_source = 'yahoo'\n",
    "cemex = DataReader(ticker, data_source, five_years_ago, now)"
   ]
  },
  {
   "cell_type": "code",
   "execution_count": 21,
   "metadata": {},
   "outputs": [],
   "source": [
    "ticker = 'MXN=X'\n",
    "data_source = 'yahoo'\n",
    "mxn = DataReader(ticker, data_source, five_years_ago, now)"
   ]
  },
  {
   "cell_type": "code",
   "execution_count": 38,
   "metadata": {},
   "outputs": [],
   "source": [
    "df = pd.DataFrame({\"goog\":goog.Close, \"cemex\":cemex.Close, 'mxn':mxn['Close']})\n",
    "# drop rows where all columns in subset are NA\n",
    "df = df.dropna(axis=0, how='all', subset=('goog', 'cemex'))\n",
    "# fill with the value of the previous date's values\n",
    "df = df.fillna(method='ffill')\n",
    "# in case there are empty rows at the beginning, fill with following date's values\n",
    "df = df.fillna(method='bfill')"
   ]
  },
  {
   "cell_type": "code",
   "execution_count": 39,
   "metadata": {},
   "outputs": [],
   "source": [
    "#Add a column with google prices in MXN\n",
    "df['goog_mxn'] = df.goog * df.mxn"
   ]
  },
  {
   "cell_type": "code",
   "execution_count": 42,
   "metadata": {},
   "outputs": [
    {
     "data": {
      "text/plain": [
       "<AxesSubplot:xlabel='Date'>"
      ]
     },
     "execution_count": 42,
     "metadata": {},
     "output_type": "execute_result"
    },
    {
     "data": {
      "image/png": "[encoded data removed]",
      "text/plain": [
       "<Figure size 432x288 with 1 Axes>"
      ]
     },
     "metadata": {
      "needs_background": "light"
     },
     "output_type": "display_data"
    }
   ],
   "source": [
    "df.plot(y=['goog_mxn', \"cemex\"])"
   ]
  },
  {
   "cell_type": "code",
   "execution_count": 45,
   "metadata": {},
   "outputs": [
    {
     "data": {
      "text/html": [
       "<div>\n",
       "<style scoped>\n",
       "    .dataframe tbody tr th:only-of-type {\n",
       "        vertical-align: middle;\n",
       "    }\n",
       "\n",
       "    .dataframe tbody tr th {\n",
       "        vertical-align: top;\n",
       "    }\n",
       "\n",
       "    .dataframe thead th {\n",
       "        text-align: right;\n",
       "    }\n",
       "</style>\n",
       "<table border=\"1\" class=\"dataframe\">\n",
       "  <thead>\n",
       "    <tr style=\"text-align: right;\">\n",
       "      <th></th>\n",
       "      <th>goog</th>\n",
       "      <th>cemex</th>\n",
       "      <th>mxn</th>\n",
       "      <th>goog_mxn</th>\n",
       "    </tr>\n",
       "  </thead>\n",
       "  <tbody>\n",
       "    <tr>\n",
       "      <th>goog</th>\n",
       "      <td>1.000000</td>\n",
       "      <td>0.315687</td>\n",
       "      <td>0.251548</td>\n",
       "      <td>0.992714</td>\n",
       "    </tr>\n",
       "    <tr>\n",
       "      <th>cemex</th>\n",
       "      <td>0.315687</td>\n",
       "      <td>1.000000</td>\n",
       "      <td>-0.393965</td>\n",
       "      <td>0.259684</td>\n",
       "    </tr>\n",
       "    <tr>\n",
       "      <th>mxn</th>\n",
       "      <td>0.251548</td>\n",
       "      <td>-0.393965</td>\n",
       "      <td>1.000000</td>\n",
       "      <td>0.363507</td>\n",
       "    </tr>\n",
       "    <tr>\n",
       "      <th>goog_mxn</th>\n",
       "      <td>0.992714</td>\n",
       "      <td>0.259684</td>\n",
       "      <td>0.363507</td>\n",
       "      <td>1.000000</td>\n",
       "    </tr>\n",
       "  </tbody>\n",
       "</table>\n",
       "</div>"
      ],
      "text/plain": [
       "              goog     cemex       mxn  goog_mxn\n",
       "goog      1.000000  0.315687  0.251548  0.992714\n",
       "cemex     0.315687  1.000000 -0.393965  0.259684\n",
       "mxn       0.251548 -0.393965  1.000000  0.363507\n",
       "goog_mxn  0.992714  0.259684  0.363507  1.000000"
      ]
     },
     "execution_count": 45,
     "metadata": {},
     "output_type": "execute_result"
    }
   ],
   "source": [
    "df.corr()"
   ]
  },
  {
   "cell_type": "code",
   "execution_count": 46,
   "metadata": {},
   "outputs": [
    {
     "data": {
      "text/html": [
       "<div>\n",
       "<style scoped>\n",
       "    .dataframe tbody tr th:only-of-type {\n",
       "        vertical-align: middle;\n",
       "    }\n",
       "\n",
       "    .dataframe tbody tr th {\n",
       "        vertical-align: top;\n",
       "    }\n",
       "\n",
       "    .dataframe thead th {\n",
       "        text-align: right;\n",
       "    }\n",
       "</style>\n",
       "<table border=\"1\" class=\"dataframe\">\n",
       "  <thead>\n",
       "    <tr style=\"text-align: right;\">\n",
       "      <th></th>\n",
       "      <th>goog</th>\n",
       "      <th>cemex</th>\n",
       "      <th>mxn</th>\n",
       "      <th>goog_mxn</th>\n",
       "    </tr>\n",
       "  </thead>\n",
       "  <tbody>\n",
       "    <tr>\n",
       "      <th>goog</th>\n",
       "      <td>1036.240835</td>\n",
       "      <td>34.293096</td>\n",
       "      <td>10.093320</td>\n",
       "      <td>21605.309341</td>\n",
       "    </tr>\n",
       "    <tr>\n",
       "      <th>cemex</th>\n",
       "      <td>34.293096</td>\n",
       "      <td>11.387800</td>\n",
       "      <td>-1.657147</td>\n",
       "      <td>592.477451</td>\n",
       "    </tr>\n",
       "    <tr>\n",
       "      <th>mxn</th>\n",
       "      <td>10.093320</td>\n",
       "      <td>-1.657147</td>\n",
       "      <td>1.553699</td>\n",
       "      <td>306.339288</td>\n",
       "    </tr>\n",
       "    <tr>\n",
       "      <th>goog_mxn</th>\n",
       "      <td>21605.309341</td>\n",
       "      <td>592.477451</td>\n",
       "      <td>306.339288</td>\n",
       "      <td>457100.805848</td>\n",
       "    </tr>\n",
       "  </tbody>\n",
       "</table>\n",
       "</div>"
      ],
      "text/plain": [
       "                  goog       cemex         mxn       goog_mxn\n",
       "goog       1036.240835   34.293096   10.093320   21605.309341\n",
       "cemex        34.293096   11.387800   -1.657147     592.477451\n",
       "mxn          10.093320   -1.657147    1.553699     306.339288\n",
       "goog_mxn  21605.309341  592.477451  306.339288  457100.805848"
      ]
     },
     "execution_count": 46,
     "metadata": {},
     "output_type": "execute_result"
    }
   ],
   "source": [
    "df.cov()"
   ]
  },
  {
   "cell_type": "code",
   "execution_count": 47,
   "metadata": {},
   "outputs": [
    {
     "data": {
      "text/plain": [
       "goog         32.190695\n",
       "cemex         3.374582\n",
       "mxn           1.246475\n",
       "goog_mxn    676.092306\n",
       "dtype: float64"
      ]
     },
     "execution_count": 47,
     "metadata": {},
     "output_type": "execute_result"
    }
   ],
   "source": [
    "df.std()"
   ]
  },
  {
   "cell_type": "code",
   "execution_count": 49,
   "metadata": {},
   "outputs": [
    {
     "data": {
      "text/plain": [
       "goog          511.011439\n",
       "cemex          53.569821\n",
       "mxn            19.787171\n",
       "goog_mxn    10732.632625\n",
       "dtype: float64"
      ]
     },
     "execution_count": 49,
     "metadata": {},
     "output_type": "execute_result"
    }
   ],
   "source": [
    "df.std() * np.sqrt(252)"
   ]
  },
  {
   "cell_type": "code",
   "execution_count": 53,
   "metadata": {},
   "outputs": [],
   "source": [
    "df['goog_mxn_change'] = df.goog_mxn.pct_change()"
   ]
  },
  {
   "cell_type": "code",
   "execution_count": 59,
   "metadata": {},
   "outputs": [],
   "source": [
    "df.to_excel('example.xlsx')"
   ]
  },
  {
   "cell_type": "code",
   "execution_count": null,
   "metadata": {},
   "outputs": [],
   "source": []
  }
 ],
 "metadata": {
  "kernelspec": {
   "display_name": "Python 3.9.13 ('ejemplo')",
   "language": "python",
   "name": "python3"
  },
  "language_info": {
   "codemirror_mode": {
    "name": "ipython",
    "version": 3
   },
   "file_extension": ".py",
   "mimetype": "text/x-python",
   "name": "python",
   "nbconvert_exporter": "python",
   "pygments_lexer": "ipython3",
   "version": "3.9.13"
  },
  "orig_nbformat": 4,
  "vscode": {
   "interpreter": {
    "hash": "6114b0afed7652bc0ab613c9b53416ca55dd185f4e3d467de7a94a4d2c7f4e2c"
   }
  }
 },
 "nbformat": 4,
 "nbformat_minor": 2
}
