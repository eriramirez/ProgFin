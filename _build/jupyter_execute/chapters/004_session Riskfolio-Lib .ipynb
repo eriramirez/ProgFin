{
 "cells": [
  {
   "cell_type": "code",
   "execution_count": 1,
   "metadata": {},
   "outputs": [
    {
     "name": "stdout",
     "output_type": "stream",
     "text": [
      "Collecting cvxpy\r\n",
      "  Using cached cvxpy-1.2.2-cp39-cp39-macosx_10_9_universal2.whl (1.1 MB)\r\n"
     ]
    },
    {
     "name": "stdout",
     "output_type": "stream",
     "text": [
      "Collecting scipy>=1.1.0\r\n",
      "  Using cached scipy-1.9.3-cp39-cp39-macosx_12_0_arm64.whl (28.6 MB)\r\n"
     ]
    },
    {
     "name": "stdout",
     "output_type": "stream",
     "text": [
      "Collecting ecos>=2\r\n"
     ]
    },
    {
     "name": "stdout",
     "output_type": "stream",
     "text": [
      "  Downloading ecos-2.0.10.tar.gz (135 kB)\r\n",
      "\u001b[?25l     \u001b[38;5;237m━━━━━━━━━━━━━━━━━━━━━━━━━━━━━━━━━━━━━━━━\u001b[0m \u001b[32m0.0/135.2 kB\u001b[0m \u001b[31m?\u001b[0m eta \u001b[36m-:--:--\u001b[0m"
     ]
    },
    {
     "name": "stdout",
     "output_type": "stream",
     "text": [
      "\r",
      "\u001b[2K     \u001b[38;2;249;38;114m━━━━━━━━━━━━━━━━━━━━━━━━━━━━━━━━━━━━━━\u001b[0m\u001b[38;5;237m╺\u001b[0m \u001b[32m133.1/135.2 kB\u001b[0m \u001b[31m3.7 MB/s\u001b[0m eta \u001b[36m0:00:01\u001b[0m\r",
      "\u001b[2K     \u001b[38;2;114;156;31m━━━━━━━━━━━━━━━━━━━━━━━━━━━━━━━━━━━━━━━\u001b[0m \u001b[32m135.2/135.2 kB\u001b[0m \u001b[31m2.8 MB/s\u001b[0m eta \u001b[36m0:00:00\u001b[0m\r\n",
      "\u001b[?25h"
     ]
    },
    {
     "name": "stdout",
     "output_type": "stream",
     "text": [
      "  Installing build dependencies ... \u001b[?25l-"
     ]
    },
    {
     "name": "stdout",
     "output_type": "stream",
     "text": [
      "\b \b\\"
     ]
    },
    {
     "name": "stdout",
     "output_type": "stream",
     "text": [
      "\b \b|"
     ]
    },
    {
     "name": "stdout",
     "output_type": "stream",
     "text": [
      "\b \b/"
     ]
    },
    {
     "name": "stdout",
     "output_type": "stream",
     "text": [
      "\b \b-"
     ]
    },
    {
     "name": "stdout",
     "output_type": "stream",
     "text": [
      "\b \bdone\r\n"
     ]
    },
    {
     "name": "stdout",
     "output_type": "stream",
     "text": [
      "\u001b[?25h  Getting requirements to build wheel ... \u001b[?25ldone\r\n"
     ]
    },
    {
     "name": "stdout",
     "output_type": "stream",
     "text": [
      "\u001b[?25h  Preparing metadata (pyproject.toml) ... \u001b[?25l-"
     ]
    },
    {
     "name": "stdout",
     "output_type": "stream",
     "text": [
      "\b \b\\"
     ]
    },
    {
     "name": "stdout",
     "output_type": "stream",
     "text": [
      "\b \bdone\r\n"
     ]
    },
    {
     "name": "stdout",
     "output_type": "stream",
     "text": [
      "\u001b[?25hCollecting osqp>=0.4.1\r\n",
      "  Using cached osqp-0.6.2.post8.tar.gz (227 kB)\r\n"
     ]
    },
    {
     "name": "stdout",
     "output_type": "stream",
     "text": [
      "  Installing build dependencies ... \u001b[?25l-"
     ]
    },
    {
     "name": "stdout",
     "output_type": "stream",
     "text": [
      "\b \b\\"
     ]
    },
    {
     "name": "stdout",
     "output_type": "stream",
     "text": [
      "\b \b|"
     ]
    },
    {
     "name": "stdout",
     "output_type": "stream",
     "text": [
      "\b \b/"
     ]
    },
    {
     "name": "stdout",
     "output_type": "stream",
     "text": [
      "\b \b-"
     ]
    },
    {
     "name": "stdout",
     "output_type": "stream",
     "text": [
      "\b \b\\"
     ]
    },
    {
     "name": "stdout",
     "output_type": "stream",
     "text": [
      "\b \b|"
     ]
    },
    {
     "name": "stdout",
     "output_type": "stream",
     "text": [
      "\b \b/"
     ]
    },
    {
     "name": "stdout",
     "output_type": "stream",
     "text": [
      "\b \b-"
     ]
    },
    {
     "name": "stdout",
     "output_type": "stream",
     "text": [
      "\b \b\\"
     ]
    },
    {
     "name": "stdout",
     "output_type": "stream",
     "text": [
      "\b \b|"
     ]
    },
    {
     "name": "stdout",
     "output_type": "stream",
     "text": [
      "\b \b/"
     ]
    },
    {
     "name": "stdout",
     "output_type": "stream",
     "text": [
      "\b \b-"
     ]
    },
    {
     "name": "stdout",
     "output_type": "stream",
     "text": [
      "\b \berror\r\n"
     ]
    },
    {
     "name": "stdout",
     "output_type": "stream",
     "text": [
      "  \u001b[1;31merror\u001b[0m: \u001b[1msubprocess-exited-with-error\u001b[0m\r\n",
      "  \r\n",
      "  \u001b[31m×\u001b[0m \u001b[32mpip subprocess to install build dependencies\u001b[0m did not run successfully.\r\n",
      "  \u001b[31m│\u001b[0m exit code: \u001b[1;36m1\u001b[0m\r\n",
      "  \u001b[31m╰─>\u001b[0m \u001b[31m[174 lines of output]\u001b[0m\r\n",
      "  \u001b[31m   \u001b[0m Collecting oldest-supported-numpy\r\n",
      "  \u001b[31m   \u001b[0m   Using cached oldest_supported_numpy-2022.11.19-py3-none-any.whl (4.9 kB)\r\n",
      "  \u001b[31m   \u001b[0m Collecting setuptools>=40.8.0\r\n",
      "  \u001b[31m   \u001b[0m   Using cached setuptools-65.6.3-py3-none-any.whl (1.2 MB)\r\n",
      "  \u001b[31m   \u001b[0m Collecting wheel\r\n",
      "  \u001b[31m   \u001b[0m   Using cached wheel-0.38.4-py3-none-any.whl (36 kB)\r\n",
      "  \u001b[31m   \u001b[0m Collecting setuptools_scm>=6.2\r\n",
      "  \u001b[31m   \u001b[0m   Using cached setuptools_scm-7.0.5-py3-none-any.whl (42 kB)\r\n",
      "  \u001b[31m   \u001b[0m Collecting qdldl\r\n",
      "  \u001b[31m   \u001b[0m   Using cached qdldl-0.1.5.post2.tar.gz (69 kB)\r\n",
      "  \u001b[31m   \u001b[0m   Preparing metadata (setup.py): started\r\n",
      "  \u001b[31m   \u001b[0m   Preparing metadata (setup.py): finished with status 'done'\r\n",
      "  \u001b[31m   \u001b[0m Collecting numpy==1.21.0\r\n",
      "  \u001b[31m   \u001b[0m   Using cached numpy-1.21.0-cp39-cp39-macosx_11_0_arm64.whl (12.1 MB)\r\n",
      "  \u001b[31m   \u001b[0m Collecting typing-extensions\r\n",
      "  \u001b[31m   \u001b[0m   Using cached typing_extensions-4.4.0-py3-none-any.whl (26 kB)\r\n",
      "  \u001b[31m   \u001b[0m Collecting packaging>=20.0\r\n",
      "  \u001b[31m   \u001b[0m   Using cached packaging-22.0-py3-none-any.whl (42 kB)\r\n",
      "  \u001b[31m   \u001b[0m Collecting tomli>=1.0.0\r\n",
      "  \u001b[31m   \u001b[0m   Using cached tomli-2.0.1-py3-none-any.whl (12 kB)\r\n",
      "  \u001b[31m   \u001b[0m Collecting scipy>=0.13.2\r\n",
      "  \u001b[31m   \u001b[0m   Using cached scipy-1.9.3-cp39-cp39-macosx_12_0_arm64.whl (28.6 MB)\r\n",
      "  \u001b[31m   \u001b[0m Building wheels for collected packages: qdldl\r\n",
      "  \u001b[31m   \u001b[0m   Building wheel for qdldl (setup.py): started\r\n",
      "  \u001b[31m   \u001b[0m   Building wheel for qdldl (setup.py): finished with status 'error'\r\n",
      "  \u001b[31m   \u001b[0m   error: subprocess-exited-with-error\r\n",
      "  \u001b[31m   \u001b[0m \r\n",
      "  \u001b[31m   \u001b[0m   × python setup.py bdist_wheel did not run successfully.\r\n",
      "  \u001b[31m   \u001b[0m   │ exit code: 1\r\n",
      "  \u001b[31m   \u001b[0m   ╰─> [58 lines of output]\r\n",
      "  \u001b[31m   \u001b[0m       running bdist_wheel\r\n",
      "  \u001b[31m   \u001b[0m       running build\r\n",
      "  \u001b[31m   \u001b[0m       running build_ext\r\n",
      "  \u001b[31m   \u001b[0m       Traceback (most recent call last):\r\n",
      "  \u001b[31m   \u001b[0m         File \"/private/var/folders/4p/1qzxhhhn5qjd1ldnjc3_4d540000gn/T/pip-install-_h1x32aj/qdldl_6b2b08a1276745e5a512a120c8ee801d/setup.py\", line 78, in build_extensions\r\n",
      "  \u001b[31m   \u001b[0m           check_output(['cmake', '--version'])\r\n",
      "  \u001b[31m   \u001b[0m         File \"/Users/fercos/miniconda3/envs/progfin/lib/python3.9/subprocess.py\", line 424, in check_output\r\n",
      "  \u001b[31m   \u001b[0m           return run(*popenargs, stdout=PIPE, timeout=timeout, check=True,\r\n",
      "  \u001b[31m   \u001b[0m         File \"/Users/fercos/miniconda3/envs/progfin/lib/python3.9/subprocess.py\", line 505, in run\r\n",
      "  \u001b[31m   \u001b[0m           with Popen(*popenargs, **kwargs) as process:\r\n",
      "  \u001b[31m   \u001b[0m         File \"/Users/fercos/miniconda3/envs/progfin/lib/python3.9/subprocess.py\", line 951, in __init__\r\n",
      "  \u001b[31m   \u001b[0m           self._execute_child(args, executable, preexec_fn, close_fds,\r\n",
      "  \u001b[31m   \u001b[0m         File \"/Users/fercos/miniconda3/envs/progfin/lib/python3.9/subprocess.py\", line 1821, in _execute_child\r\n",
      "  \u001b[31m   \u001b[0m           raise child_exception_type(errno_num, err_msg, err_filename)\r\n",
      "  \u001b[31m   \u001b[0m       FileNotFoundError: [Errno 2] No such file or directory: 'cmake'\r\n",
      "  \u001b[31m   \u001b[0m \r\n",
      "  \u001b[31m   \u001b[0m       During handling of the above exception, another exception occurred:\r\n",
      "  \u001b[31m   \u001b[0m \r\n",
      "  \u001b[31m   \u001b[0m       Traceback (most recent call last):\r\n",
      "  \u001b[31m   \u001b[0m         File \"<string>\", line 2, in <module>\r\n",
      "  \u001b[31m   \u001b[0m         File \"<pip-setuptools-caller>\", line 34, in <module>\r\n",
      "  \u001b[31m   \u001b[0m         File \"/private/var/folders/4p/1qzxhhhn5qjd1ldnjc3_4d540000gn/T/pip-install-_h1x32aj/qdldl_6b2b08a1276745e5a512a120c8ee801d/setup.py\", line 110, in <module>\r\n",
      "  \u001b[31m   \u001b[0m           setup(name='qdldl',\r\n",
      "  \u001b[31m   \u001b[0m         File \"/Users/fercos/miniconda3/envs/progfin/lib/python3.9/site-packages/setuptools/__init__.py\", line 87, in setup\r\n",
      "  \u001b[31m   \u001b[0m           return distutils.core.setup(**attrs)\r\n",
      "  \u001b[31m   \u001b[0m         File \"/Users/fercos/miniconda3/envs/progfin/lib/python3.9/site-packages/setuptools/_distutils/core.py\", line 185, in setup\r\n",
      "  \u001b[31m   \u001b[0m           return run_commands(dist)\r\n",
      "  \u001b[31m   \u001b[0m         File \"/Users/fercos/miniconda3/envs/progfin/lib/python3.9/site-packages/setuptools/_distutils/core.py\", line 201, in run_commands\r\n",
      "  \u001b[31m   \u001b[0m           dist.run_commands()\r\n",
      "  \u001b[31m   \u001b[0m         File \"/Users/fercos/miniconda3/envs/progfin/lib/python3.9/site-packages/setuptools/_distutils/dist.py\", line 968, in run_commands\r\n",
      "  \u001b[31m   \u001b[0m           self.run_command(cmd)\r\n",
      "  \u001b[31m   \u001b[0m         File \"/Users/fercos/miniconda3/envs/progfin/lib/python3.9/site-packages/setuptools/dist.py\", line 1217, in run_command\r\n",
      "  \u001b[31m   \u001b[0m           super().run_command(command)\r\n",
      "  \u001b[31m   \u001b[0m         File \"/Users/fercos/miniconda3/envs/progfin/lib/python3.9/site-packages/setuptools/_distutils/dist.py\", line 987, in run_command\r\n",
      "  \u001b[31m   \u001b[0m           cmd_obj.run()\r\n",
      "  \u001b[31m   \u001b[0m         File \"/Users/fercos/miniconda3/envs/progfin/lib/python3.9/site-packages/wheel/bdist_wheel.py\", line 299, in run\r\n",
      "  \u001b[31m   \u001b[0m           self.run_command('build')\r\n",
      "  \u001b[31m   \u001b[0m         File \"/Users/fercos/miniconda3/envs/progfin/lib/python3.9/site-packages/setuptools/_distutils/cmd.py\", line 319, in run_command\r\n",
      "  \u001b[31m   \u001b[0m           self.distribution.run_command(command)\r\n",
      "  \u001b[31m   \u001b[0m         File \"/Users/fercos/miniconda3/envs/progfin/lib/python3.9/site-packages/setuptools/dist.py\", line 1217, in run_command\r\n",
      "  \u001b[31m   \u001b[0m           super().run_command(command)\r\n",
      "  \u001b[31m   \u001b[0m         File \"/Users/fercos/miniconda3/envs/progfin/lib/python3.9/site-packages/setuptools/_distutils/dist.py\", line 987, in run_command\r\n",
      "  \u001b[31m   \u001b[0m           cmd_obj.run()\r\n",
      "  \u001b[31m   \u001b[0m         File \"/Users/fercos/miniconda3/envs/progfin/lib/python3.9/site-packages/setuptools/_distutils/command/build.py\", line 132, in run\r\n",
      "  \u001b[31m   \u001b[0m           self.run_command(cmd_name)\r\n",
      "  \u001b[31m   \u001b[0m         File \"/Users/fercos/miniconda3/envs/progfin/lib/python3.9/site-packages/setuptools/_distutils/cmd.py\", line 319, in run_command\r\n",
      "  \u001b[31m   \u001b[0m           self.distribution.run_command(command)\r\n",
      "  \u001b[31m   \u001b[0m         File \"/Users/fercos/miniconda3/envs/progfin/lib/python3.9/site-packages/setuptools/dist.py\", line 1217, in run_command\r\n",
      "  \u001b[31m   \u001b[0m           super().run_command(command)\r\n",
      "  \u001b[31m   \u001b[0m         File \"/Users/fercos/miniconda3/envs/progfin/lib/python3.9/site-packages/setuptools/_distutils/dist.py\", line 987, in run_command\r\n",
      "  \u001b[31m   \u001b[0m           cmd_obj.run()\r\n",
      "  \u001b[31m   \u001b[0m         File \"/Users/fercos/miniconda3/envs/progfin/lib/python3.9/site-packages/setuptools/command/build_ext.py\", line 84, in run\r\n",
      "  \u001b[31m   \u001b[0m           _build_ext.run(self)\r\n",
      "  \u001b[31m   \u001b[0m         File \"/Users/fercos/miniconda3/envs/progfin/lib/python3.9/site-packages/setuptools/_distutils/command/build_ext.py\", line 346, in run\r\n",
      "  \u001b[31m   \u001b[0m           self.build_extensions()\r\n",
      "  \u001b[31m   \u001b[0m         File \"/private/var/folders/4p/1qzxhhhn5qjd1ldnjc3_4d540000gn/T/pip-install-_h1x32aj/qdldl_6b2b08a1276745e5a512a120c8ee801d/setup.py\", line 80, in build_extensions\r\n",
      "  \u001b[31m   \u001b[0m           raise RuntimeError(\"CMake must be installed to build qdldl\")\r\n",
      "  \u001b[31m   \u001b[0m       RuntimeError: CMake must be installed to build qdldl\r\n",
      "  \u001b[31m   \u001b[0m       [end of output]\r\n",
      "  \u001b[31m   \u001b[0m \r\n",
      "  \u001b[31m   \u001b[0m   note: This error originates from a subprocess, and is likely not a problem with pip.\r\n",
      "  \u001b[31m   \u001b[0m   ERROR: Failed building wheel for qdldl\r\n",
      "  \u001b[31m   \u001b[0m   Running setup.py clean for qdldl\r\n",
      "  \u001b[31m   \u001b[0m Failed to build qdldl\r\n",
      "  \u001b[31m   \u001b[0m Installing collected packages: wheel, typing-extensions, tomli, setuptools, packaging, numpy, setuptools_scm, scipy, oldest-supported-numpy, qdldl\r\n",
      "  \u001b[31m   \u001b[0m   Running setup.py install for qdldl: started\r\n",
      "  \u001b[31m   \u001b[0m   Running setup.py install for qdldl: finished with status 'error'\r\n",
      "  \u001b[31m   \u001b[0m   error: subprocess-exited-with-error\r\n",
      "  \u001b[31m   \u001b[0m \r\n",
      "  \u001b[31m   \u001b[0m   × Running setup.py install for qdldl did not run successfully.\r\n",
      "  \u001b[31m   \u001b[0m   │ exit code: 1\r\n",
      "  \u001b[31m   \u001b[0m   ╰─> [62 lines of output]\r\n",
      "  \u001b[31m   \u001b[0m       running install\r\n",
      "  \u001b[31m   \u001b[0m       /Users/fercos/miniconda3/envs/progfin/lib/python3.9/site-packages/setuptools/command/install.py:34: SetuptoolsDeprecationWarning: setup.py install is deprecated. Use build and pip and other standards-based tools.\r\n",
      "  \u001b[31m   \u001b[0m         warnings.warn(\r\n",
      "  \u001b[31m   \u001b[0m       running build\r\n",
      "  \u001b[31m   \u001b[0m       running build_ext\r\n",
      "  \u001b[31m   \u001b[0m       Traceback (most recent call last):\r\n",
      "  \u001b[31m   \u001b[0m         File \"/private/var/folders/4p/1qzxhhhn5qjd1ldnjc3_4d540000gn/T/pip-install-_h1x32aj/qdldl_6b2b08a1276745e5a512a120c8ee801d/setup.py\", line 78, in build_extensions\r\n",
      "  \u001b[31m   \u001b[0m           check_output(['cmake', '--version'])\r\n",
      "  \u001b[31m   \u001b[0m         File \"/Users/fercos/miniconda3/envs/progfin/lib/python3.9/subprocess.py\", line 424, in check_output\r\n",
      "  \u001b[31m   \u001b[0m           return run(*popenargs, stdout=PIPE, timeout=timeout, check=True,\r\n",
      "  \u001b[31m   \u001b[0m         File \"/Users/fercos/miniconda3/envs/progfin/lib/python3.9/subprocess.py\", line 505, in run\r\n",
      "  \u001b[31m   \u001b[0m           with Popen(*popenargs, **kwargs) as process:\r\n",
      "  \u001b[31m   \u001b[0m         File \"/Users/fercos/miniconda3/envs/progfin/lib/python3.9/subprocess.py\", line 951, in __init__\r\n",
      "  \u001b[31m   \u001b[0m           self._execute_child(args, executable, preexec_fn, close_fds,\r\n",
      "  \u001b[31m   \u001b[0m         File \"/Users/fercos/miniconda3/envs/progfin/lib/python3.9/subprocess.py\", line 1821, in _execute_child\r\n",
      "  \u001b[31m   \u001b[0m           raise child_exception_type(errno_num, err_msg, err_filename)\r\n",
      "  \u001b[31m   \u001b[0m       FileNotFoundError: [Errno 2] No such file or directory: 'cmake'\r\n",
      "  \u001b[31m   \u001b[0m \r\n",
      "  \u001b[31m   \u001b[0m       During handling of the above exception, another exception occurred:\r\n",
      "  \u001b[31m   \u001b[0m \r\n",
      "  \u001b[31m   \u001b[0m       Traceback (most recent call last):\r\n",
      "  \u001b[31m   \u001b[0m         File \"<string>\", line 2, in <module>\r\n",
      "  \u001b[31m   \u001b[0m         File \"<pip-setuptools-caller>\", line 34, in <module>\r\n",
      "  \u001b[31m   \u001b[0m         File \"/private/var/folders/4p/1qzxhhhn5qjd1ldnjc3_4d540000gn/T/pip-install-_h1x32aj/qdldl_6b2b08a1276745e5a512a120c8ee801d/setup.py\", line 110, in <module>\r\n",
      "  \u001b[31m   \u001b[0m           setup(name='qdldl',\r\n",
      "  \u001b[31m   \u001b[0m         File \"/Users/fercos/miniconda3/envs/progfin/lib/python3.9/site-packages/setuptools/__init__.py\", line 87, in setup\r\n",
      "  \u001b[31m   \u001b[0m           return distutils.core.setup(**attrs)\r\n",
      "  \u001b[31m   \u001b[0m         File \"/Users/fercos/miniconda3/envs/progfin/lib/python3.9/site-packages/setuptools/_distutils/core.py\", line 185, in setup\r\n",
      "  \u001b[31m   \u001b[0m           return run_commands(dist)\r\n",
      "  \u001b[31m   \u001b[0m         File \"/Users/fercos/miniconda3/envs/progfin/lib/python3.9/site-packages/setuptools/_distutils/core.py\", line 201, in run_commands\r\n",
      "  \u001b[31m   \u001b[0m           dist.run_commands()\r\n",
      "  \u001b[31m   \u001b[0m         File \"/Users/fercos/miniconda3/envs/progfin/lib/python3.9/site-packages/setuptools/_distutils/dist.py\", line 968, in run_commands\r\n",
      "  \u001b[31m   \u001b[0m           self.run_command(cmd)\r\n",
      "  \u001b[31m   \u001b[0m         File \"/Users/fercos/miniconda3/envs/progfin/lib/python3.9/site-packages/setuptools/dist.py\", line 1217, in run_command\r\n",
      "  \u001b[31m   \u001b[0m           super().run_command(command)\r\n",
      "  \u001b[31m   \u001b[0m         File \"/Users/fercos/miniconda3/envs/progfin/lib/python3.9/site-packages/setuptools/_distutils/dist.py\", line 987, in run_command\r\n",
      "  \u001b[31m   \u001b[0m           cmd_obj.run()\r\n",
      "  \u001b[31m   \u001b[0m         File \"/Users/fercos/miniconda3/envs/progfin/lib/python3.9/site-packages/setuptools/command/install.py\", line 68, in run\r\n",
      "  \u001b[31m   \u001b[0m           return orig.install.run(self)\r\n",
      "  \u001b[31m   \u001b[0m         File \"/Users/fercos/miniconda3/envs/progfin/lib/python3.9/site-packages/setuptools/_distutils/command/install.py\", line 698, in run\r\n",
      "  \u001b[31m   \u001b[0m           self.run_command('build')\r\n",
      "  \u001b[31m   \u001b[0m         File \"/Users/fercos/miniconda3/envs/progfin/lib/python3.9/site-packages/setuptools/_distutils/cmd.py\", line 319, in run_command\r\n",
      "  \u001b[31m   \u001b[0m           self.distribution.run_command(command)\r\n",
      "  \u001b[31m   \u001b[0m         File \"/Users/fercos/miniconda3/envs/progfin/lib/python3.9/site-packages/setuptools/dist.py\", line 1217, in run_command\r\n",
      "  \u001b[31m   \u001b[0m           super().run_command(command)\r\n",
      "  \u001b[31m   \u001b[0m         File \"/Users/fercos/miniconda3/envs/progfin/lib/python3.9/site-packages/setuptools/_distutils/dist.py\", line 987, in run_command\r\n",
      "  \u001b[31m   \u001b[0m           cmd_obj.run()\r\n",
      "  \u001b[31m   \u001b[0m         File \"/Users/fercos/miniconda3/envs/progfin/lib/python3.9/site-packages/setuptools/_distutils/command/build.py\", line 132, in run\r\n",
      "  \u001b[31m   \u001b[0m           self.run_command(cmd_name)\r\n",
      "  \u001b[31m   \u001b[0m         File \"/Users/fercos/miniconda3/envs/progfin/lib/python3.9/site-packages/setuptools/_distutils/cmd.py\", line 319, in run_command\r\n",
      "  \u001b[31m   \u001b[0m           self.distribution.run_command(command)\r\n",
      "  \u001b[31m   \u001b[0m         File \"/Users/fercos/miniconda3/envs/progfin/lib/python3.9/site-packages/setuptools/dist.py\", line 1217, in run_command\r\n",
      "  \u001b[31m   \u001b[0m           super().run_command(command)\r\n",
      "  \u001b[31m   \u001b[0m         File \"/Users/fercos/miniconda3/envs/progfin/lib/python3.9/site-packages/setuptools/_distutils/dist.py\", line 987, in run_command\r\n",
      "  \u001b[31m   \u001b[0m           cmd_obj.run()\r\n",
      "  \u001b[31m   \u001b[0m         File \"/Users/fercos/miniconda3/envs/progfin/lib/python3.9/site-packages/setuptools/command/build_ext.py\", line 84, in run\r\n",
      "  \u001b[31m   \u001b[0m           _build_ext.run(self)\r\n",
      "  \u001b[31m   \u001b[0m         File \"/Users/fercos/miniconda3/envs/progfin/lib/python3.9/site-packages/setuptools/_distutils/command/build_ext.py\", line 346, in run\r\n",
      "  \u001b[31m   \u001b[0m           self.build_extensions()\r\n",
      "  \u001b[31m   \u001b[0m         File \"/private/var/folders/4p/1qzxhhhn5qjd1ldnjc3_4d540000gn/T/pip-install-_h1x32aj/qdldl_6b2b08a1276745e5a512a120c8ee801d/setup.py\", line 80, in build_extensions\r\n",
      "  \u001b[31m   \u001b[0m           raise RuntimeError(\"CMake must be installed to build qdldl\")\r\n",
      "  \u001b[31m   \u001b[0m       RuntimeError: CMake must be installed to build qdldl\r\n",
      "  \u001b[31m   \u001b[0m       [end of output]\r\n",
      "  \u001b[31m   \u001b[0m \r\n",
      "  \u001b[31m   \u001b[0m   note: This error originates from a subprocess, and is likely not a problem with pip.\r\n",
      "  \u001b[31m   \u001b[0m error: legacy-install-failure\r\n",
      "  \u001b[31m   \u001b[0m \r\n",
      "  \u001b[31m   \u001b[0m × Encountered error while trying to install package.\r\n",
      "  \u001b[31m   \u001b[0m ╰─> qdldl\r\n",
      "  \u001b[31m   \u001b[0m \r\n",
      "  \u001b[31m   \u001b[0m note: This is an issue with the package mentioned above, not pip.\r\n",
      "  \u001b[31m   \u001b[0m hint: See above for output from the failure.\r\n",
      "  \u001b[31m   \u001b[0m \u001b[31m[end of output]\u001b[0m\r\n",
      "  \r\n",
      "  \u001b[1;35mnote\u001b[0m: This error originates from a subprocess, and is likely not a problem with pip.\r\n",
      "\u001b[1;31merror\u001b[0m: \u001b[1msubprocess-exited-with-error\u001b[0m\r\n",
      "\r\n",
      "\u001b[31m×\u001b[0m \u001b[32mpip subprocess to install build dependencies\u001b[0m did not run successfully.\r\n",
      "\u001b[31m│\u001b[0m exit code: \u001b[1;36m1\u001b[0m\r\n",
      "\u001b[31m╰─>\u001b[0m See above for output.\r\n",
      "\r\n",
      "\u001b[1;35mnote\u001b[0m: This error originates from a subprocess, and is likely not a problem with pip.\r\n"
     ]
    },
    {
     "name": "stdout",
     "output_type": "stream",
     "text": [
      "\u001b[?25h"
     ]
    },
    {
     "name": "stdout",
     "output_type": "stream",
     "text": [
      "Collecting riskfolio-lib\r\n",
      "  Using cached Riskfolio-Lib-4.0.1.tar.gz (13.0 MB)\r\n"
     ]
    },
    {
     "name": "stdout",
     "output_type": "stream",
     "text": [
      "  Preparing metadata (setup.py) ... \u001b[?25l-"
     ]
    },
    {
     "name": "stdout",
     "output_type": "stream",
     "text": [
      "\b \bdone\r\n"
     ]
    },
    {
     "name": "stdout",
     "output_type": "stream",
     "text": [
      "\u001b[?25hRequirement already satisfied: numpy>=1.17.0 in /Users/fercos/miniconda3/envs/progfin/lib/python3.9/site-packages (from riskfolio-lib) (1.23.5)\r\n"
     ]
    },
    {
     "name": "stdout",
     "output_type": "stream",
     "text": [
      "Collecting scipy>=1.0.1\r\n",
      "  Using cached scipy-1.9.3-cp39-cp39-macosx_12_0_arm64.whl (28.6 MB)\r\n"
     ]
    },
    {
     "name": "stdout",
     "output_type": "stream",
     "text": [
      "Requirement already satisfied: pandas>=1.0.0 in /Users/fercos/miniconda3/envs/progfin/lib/python3.9/site-packages (from riskfolio-lib) (1.5.2)\r\n"
     ]
    },
    {
     "name": "stdout",
     "output_type": "stream",
     "text": [
      "Collecting matplotlib>=3.3.0\r\n",
      "  Using cached matplotlib-3.6.2-cp39-cp39-macosx_11_0_arm64.whl (7.2 MB)\r\n"
     ]
    },
    {
     "name": "stdout",
     "output_type": "stream",
     "text": [
      "Collecting cvxpy>=1.0.25\r\n",
      "  Using cached cvxpy-1.2.2-cp39-cp39-macosx_10_9_universal2.whl (1.1 MB)\r\n"
     ]
    },
    {
     "name": "stdout",
     "output_type": "stream",
     "text": [
      "Collecting scikit-learn>=0.22.0\r\n"
     ]
    },
    {
     "name": "stdout",
     "output_type": "stream",
     "text": [
      "  Using cached scikit_learn-1.1.3-cp39-cp39-macosx_12_0_arm64.whl (7.7 MB)\r\n"
     ]
    },
    {
     "name": "stdout",
     "output_type": "stream",
     "text": [
      "Collecting statsmodels>=0.10.1\r\n",
      "  Using cached statsmodels-0.13.5-cp39-cp39-macosx_11_0_arm64.whl (9.2 MB)\r\n"
     ]
    },
    {
     "name": "stdout",
     "output_type": "stream",
     "text": [
      "Collecting arch>=4.15\r\n",
      "  Using cached arch-5.3.1-cp39-cp39-macosx_11_0_arm64.whl (851 kB)\r\n"
     ]
    },
    {
     "name": "stdout",
     "output_type": "stream",
     "text": [
      "Collecting xlsxwriter>=1.3.7\r\n",
      "  Using cached XlsxWriter-3.0.3-py3-none-any.whl (149 kB)\r\n"
     ]
    },
    {
     "name": "stdout",
     "output_type": "stream",
     "text": [
      "Collecting networkx>=2.5.1\r\n",
      "  Using cached networkx-2.8.8-py3-none-any.whl (2.0 MB)\r\n"
     ]
    },
    {
     "name": "stdout",
     "output_type": "stream",
     "text": [
      "Collecting astropy>=4.3.1\r\n",
      "  Using cached astropy-5.1.1-cp39-cp39-macosx_11_0_arm64.whl (6.7 MB)\r\n",
      "Requirement already satisfied: pybind11>=2.10.1 in /Users/fercos/miniconda3/envs/progfin/lib/python3.9/site-packages (from riskfolio-lib) (2.10.1)\r\n"
     ]
    },
    {
     "name": "stdout",
     "output_type": "stream",
     "text": [
      "Collecting property-cached>=1.6.4\r\n",
      "  Using cached property_cached-1.6.4-py2.py3-none-any.whl (7.8 kB)\r\n"
     ]
    },
    {
     "name": "stdout",
     "output_type": "stream",
     "text": [
      "Requirement already satisfied: packaging>=19.0 in /Users/fercos/miniconda3/envs/progfin/lib/python3.9/site-packages (from astropy>=4.3.1->riskfolio-lib) (21.3)\r\n",
      "Requirement already satisfied: PyYAML>=3.13 in /Users/fercos/miniconda3/envs/progfin/lib/python3.9/site-packages (from astropy>=4.3.1->riskfolio-lib) (6.0)\r\n",
      "Collecting pyerfa>=2.0\r\n"
     ]
    },
    {
     "name": "stdout",
     "output_type": "stream",
     "text": [
      "  Using cached pyerfa-2.0.0.1.tar.gz (808 kB)\r\n"
     ]
    },
    {
     "name": "stdout",
     "output_type": "stream",
     "text": [
      "  Installing build dependencies ... \u001b[?25l-"
     ]
    },
    {
     "name": "stdout",
     "output_type": "stream",
     "text": [
      "\b \b\\"
     ]
    },
    {
     "name": "stdout",
     "output_type": "stream",
     "text": [
      "\b \b|"
     ]
    },
    {
     "name": "stdout",
     "output_type": "stream",
     "text": [
      "\b \b/"
     ]
    },
    {
     "name": "stdout",
     "output_type": "stream",
     "text": [
      "\b \b-"
     ]
    },
    {
     "name": "stdout",
     "output_type": "stream",
     "text": [
      "\b \b\\"
     ]
    },
    {
     "name": "stdout",
     "output_type": "stream",
     "text": [
      "\b \bdone\r\n"
     ]
    },
    {
     "name": "stdout",
     "output_type": "stream",
     "text": [
      "^C\r\n",
      "\u001b[?25h  Getting requirements to build wheel ... \u001b[?25l\u001b[?25hcanceled\r\n",
      "\u001b[31mERROR: Operation cancelled by user\u001b[0m\u001b[31m\r\n",
      "\u001b[0m"
     ]
    },
    {
     "name": "stdout",
     "output_type": "stream",
     "text": [
      "Requirement already satisfied: yfinance in /Users/fercos/miniconda3/envs/progfin/lib/python3.9/site-packages (0.1.87)\r\n",
      "Requirement already satisfied: pandas>=0.24.0 in /Users/fercos/miniconda3/envs/progfin/lib/python3.9/site-packages (from yfinance) (1.5.2)\r\n",
      "Requirement already satisfied: lxml>=4.5.1 in /Users/fercos/miniconda3/envs/progfin/lib/python3.9/site-packages (from yfinance) (4.9.1)\r\n",
      "Requirement already satisfied: appdirs>=1.4.4 in /Users/fercos/miniconda3/envs/progfin/lib/python3.9/site-packages (from yfinance) (1.4.4)\r\n",
      "Requirement already satisfied: requests>=2.26 in /Users/fercos/miniconda3/envs/progfin/lib/python3.9/site-packages (from yfinance) (2.28.1)\r\n",
      "Requirement already satisfied: numpy>=1.15 in /Users/fercos/miniconda3/envs/progfin/lib/python3.9/site-packages (from yfinance) (1.23.5)\r\n",
      "Requirement already satisfied: multitasking>=0.0.7 in /Users/fercos/miniconda3/envs/progfin/lib/python3.9/site-packages (from yfinance) (0.0.11)\r\n",
      "Requirement already satisfied: pytz>=2020.1 in /Users/fercos/miniconda3/envs/progfin/lib/python3.9/site-packages (from pandas>=0.24.0->yfinance) (2022.6)\r\n",
      "Requirement already satisfied: python-dateutil>=2.8.1 in /Users/fercos/miniconda3/envs/progfin/lib/python3.9/site-packages (from pandas>=0.24.0->yfinance) (2.8.2)\r\n",
      "Requirement already satisfied: charset-normalizer<3,>=2 in /Users/fercos/miniconda3/envs/progfin/lib/python3.9/site-packages (from requests>=2.26->yfinance) (2.1.1)\r\n",
      "Requirement already satisfied: urllib3<1.27,>=1.21.1 in /Users/fercos/miniconda3/envs/progfin/lib/python3.9/site-packages (from requests>=2.26->yfinance) (1.26.13)\r\n",
      "Requirement already satisfied: certifi>=2017.4.17 in /Users/fercos/miniconda3/envs/progfin/lib/python3.9/site-packages (from requests>=2.26->yfinance) (2022.9.24)\r\n",
      "Requirement already satisfied: idna<4,>=2.5 in /Users/fercos/miniconda3/envs/progfin/lib/python3.9/site-packages (from requests>=2.26->yfinance) (3.4)\r\n",
      "Requirement already satisfied: six>=1.5 in /Users/fercos/miniconda3/envs/progfin/lib/python3.9/site-packages (from python-dateutil>=2.8.1->pandas>=0.24.0->yfinance) (1.16.0)\r\n"
     ]
    }
   ],
   "source": [
    "! pip install cvxpy \n",
    "! pip install riskfolio-lib\n",
    "! pip install yfinance\n"
   ]
  },
  {
   "cell_type": "code",
   "execution_count": 3,
   "metadata": {},
   "outputs": [],
   "source": [
    "from datetime import datetime, timedelta\n",
    "import cvxpy as cp\n",
    "import riskfolio as rp\n",
    "import numpy as np\n",
    "import pandas as pd\n",
    "import yfinance as yf\n",
    "import warnings"
   ]
  },
  {
   "cell_type": "code",
   "execution_count": 5,
   "metadata": {},
   "outputs": [
    {
     "name": "stdout",
     "output_type": "stream",
     "text": [
      "[*********************100%***********************]  25 of 25 completed\n"
     ]
    }
   ],
   "source": [
    "warnings.filterwarnings(\"ignore\")\n",
    "pd.options.display.float_format = '{:.4%}'.format\n",
    "\n",
    "# Data range\n",
    "five_years = timedelta(days=365*5, )\n",
    "end = datetime.now()\n",
    "start = end - five_years\n",
    "\n",
    "# Tickers of assets\n",
    "assets = ['JCI', 'TGT', 'CMCSA', 'CPB', 'MO', 'APA', \n",
    "        'MMC', 'JPM', 'ZION', 'PSA', 'BAX', 'BMY', 'LUV', \n",
    "        'PCAR', 'TXT', 'TMO', 'DE', 'MSFT', 'HPQ', 'SEE', \n",
    "        'VZ', 'CNP', 'NI', 'T', 'BA']\n",
    "assets.sort()\n",
    "\n",
    "# Downloading data\n",
    "data = yf.download(assets, start = start, end = end)\n",
    "data = data.loc[:,('Adj Close', slice(None))]\n",
    "data.columns = assets\n"
   ]
  },
  {
   "cell_type": "code",
   "execution_count": 7,
   "metadata": {},
   "outputs": [
    {
     "data": {
      "text/html": [
       "<div>\n",
       "<style scoped>\n",
       "    .dataframe tbody tr th:only-of-type {\n",
       "        vertical-align: middle;\n",
       "    }\n",
       "\n",
       "    .dataframe tbody tr th {\n",
       "        vertical-align: top;\n",
       "    }\n",
       "\n",
       "    .dataframe thead th {\n",
       "        text-align: right;\n",
       "    }\n",
       "</style>\n",
       "<table border=\"1\" class=\"dataframe\">\n",
       "  <thead>\n",
       "    <tr style=\"text-align: right;\">\n",
       "      <th></th>\n",
       "      <th>APA</th>\n",
       "      <th>BA</th>\n",
       "      <th>BAX</th>\n",
       "      <th>BMY</th>\n",
       "      <th>CMCSA</th>\n",
       "      <th>CNP</th>\n",
       "      <th>CPB</th>\n",
       "      <th>DE</th>\n",
       "      <th>HPQ</th>\n",
       "      <th>JCI</th>\n",
       "      <th>...</th>\n",
       "      <th>NI</th>\n",
       "      <th>PCAR</th>\n",
       "      <th>PSA</th>\n",
       "      <th>SEE</th>\n",
       "      <th>T</th>\n",
       "      <th>TGT</th>\n",
       "      <th>TMO</th>\n",
       "      <th>TXT</th>\n",
       "      <th>VZ</th>\n",
       "      <th>ZION</th>\n",
       "    </tr>\n",
       "    <tr>\n",
       "      <th>Date</th>\n",
       "      <th></th>\n",
       "      <th></th>\n",
       "      <th></th>\n",
       "      <th></th>\n",
       "      <th></th>\n",
       "      <th></th>\n",
       "      <th></th>\n",
       "      <th></th>\n",
       "      <th></th>\n",
       "      <th></th>\n",
       "      <th></th>\n",
       "      <th></th>\n",
       "      <th></th>\n",
       "      <th></th>\n",
       "      <th></th>\n",
       "      <th></th>\n",
       "      <th></th>\n",
       "      <th></th>\n",
       "      <th></th>\n",
       "      <th></th>\n",
       "      <th></th>\n",
       "    </tr>\n",
       "  </thead>\n",
       "  <tbody>\n",
       "    <tr>\n",
       "      <th>2017-10-13</th>\n",
       "      <td>0.4589%</td>\n",
       "      <td>-0.4467%</td>\n",
       "      <td>0.4638%</td>\n",
       "      <td>-0.0918%</td>\n",
       "      <td>0.1669%</td>\n",
       "      <td>-1.2113%</td>\n",
       "      <td>0.4131%</td>\n",
       "      <td>-0.4591%</td>\n",
       "      <td>6.4216%</td>\n",
       "      <td>0.7248%</td>\n",
       "      <td>...</td>\n",
       "      <td>0.1129%</td>\n",
       "      <td>-0.3291%</td>\n",
       "      <td>0.8072%</td>\n",
       "      <td>0.9288%</td>\n",
       "      <td>-0.4462%</td>\n",
       "      <td>1.0965%</td>\n",
       "      <td>-0.5016%</td>\n",
       "      <td>-0.5416%</td>\n",
       "      <td>-1.0134%</td>\n",
       "      <td>-0.2568%</td>\n",
       "    </tr>\n",
       "    <tr>\n",
       "      <th>2017-10-16</th>\n",
       "      <td>2.7163%</td>\n",
       "      <td>-0.3797%</td>\n",
       "      <td>1.3212%</td>\n",
       "      <td>-2.5119%</td>\n",
       "      <td>1.6662%</td>\n",
       "      <td>0.3406%</td>\n",
       "      <td>1.0177%</td>\n",
       "      <td>-0.1486%</td>\n",
       "      <td>0.3685%</td>\n",
       "      <td>0.1440%</td>\n",
       "      <td>...</td>\n",
       "      <td>-0.8647%</td>\n",
       "      <td>0.0275%</td>\n",
       "      <td>-0.4576%</td>\n",
       "      <td>0.2245%</td>\n",
       "      <td>1.3165%</td>\n",
       "      <td>-1.1504%</td>\n",
       "      <td>-0.5924%</td>\n",
       "      <td>0.1502%</td>\n",
       "      <td>0.4806%</td>\n",
       "      <td>0.4077%</td>\n",
       "    </tr>\n",
       "    <tr>\n",
       "      <th>2017-10-17</th>\n",
       "      <td>0.0702%</td>\n",
       "      <td>-0.4350%</td>\n",
       "      <td>0.4242%</td>\n",
       "      <td>0.8327%</td>\n",
       "      <td>-0.3824%</td>\n",
       "      <td>0.2376%</td>\n",
       "      <td>-1.0932%</td>\n",
       "      <td>0.7595%</td>\n",
       "      <td>-1.1014%</td>\n",
       "      <td>-1.3174%</td>\n",
       "      <td>...</td>\n",
       "      <td>0.3034%</td>\n",
       "      <td>-0.0137%</td>\n",
       "      <td>-0.7722%</td>\n",
       "      <td>-0.8511%</td>\n",
       "      <td>0.1659%</td>\n",
       "      <td>0.0333%</td>\n",
       "      <td>-1.3122%</td>\n",
       "      <td>-0.5062%</td>\n",
       "      <td>0.6446%</td>\n",
       "      <td>-1.7098%</td>\n",
       "    </tr>\n",
       "    <tr>\n",
       "      <th>2017-10-18</th>\n",
       "      <td>-0.2573%</td>\n",
       "      <td>0.5491%</td>\n",
       "      <td>-0.1252%</td>\n",
       "      <td>-0.7479%</td>\n",
       "      <td>-0.7403%</td>\n",
       "      <td>0.1693%</td>\n",
       "      <td>-1.0837%</td>\n",
       "      <td>0.0233%</td>\n",
       "      <td>0.7889%</td>\n",
       "      <td>-1.3107%</td>\n",
       "      <td>...</td>\n",
       "      <td>-0.0756%</td>\n",
       "      <td>-0.1376%</td>\n",
       "      <td>-0.5605%</td>\n",
       "      <td>-0.4292%</td>\n",
       "      <td>-1.4353%</td>\n",
       "      <td>-0.2327%</td>\n",
       "      <td>0.2384%</td>\n",
       "      <td>0.9422%</td>\n",
       "      <td>0.5165%</td>\n",
       "      <td>0.3914%</td>\n",
       "    </tr>\n",
       "    <tr>\n",
       "      <th>2017-10-19</th>\n",
       "      <td>-1.1723%</td>\n",
       "      <td>-0.3845%</td>\n",
       "      <td>-0.5796%</td>\n",
       "      <td>1.5228%</td>\n",
       "      <td>1.9337%</td>\n",
       "      <td>0.5747%</td>\n",
       "      <td>-0.5916%</td>\n",
       "      <td>-0.1554%</td>\n",
       "      <td>1.1050%</td>\n",
       "      <td>1.4265%</td>\n",
       "      <td>...</td>\n",
       "      <td>1.2486%</td>\n",
       "      <td>1.6116%</td>\n",
       "      <td>0.2516%</td>\n",
       "      <td>0.1815%</td>\n",
       "      <td>-0.0560%</td>\n",
       "      <td>0.6663%</td>\n",
       "      <td>1.7017%</td>\n",
       "      <td>-0.8774%</td>\n",
       "      <td>1.1511%</td>\n",
       "      <td>-0.2599%</td>\n",
       "    </tr>\n",
       "  </tbody>\n",
       "</table>\n",
       "<p>5 rows × 25 columns</p>\n",
       "</div>"
      ],
      "text/plain": [
       "                APA       BA      BAX      BMY    CMCSA      CNP      CPB  \\\n",
       "Date                                                                        \n",
       "2017-10-13  0.4589% -0.4467%  0.4638% -0.0918%  0.1669% -1.2113%  0.4131%   \n",
       "2017-10-16  2.7163% -0.3797%  1.3212% -2.5119%  1.6662%  0.3406%  1.0177%   \n",
       "2017-10-17  0.0702% -0.4350%  0.4242%  0.8327% -0.3824%  0.2376% -1.0932%   \n",
       "2017-10-18 -0.2573%  0.5491% -0.1252% -0.7479% -0.7403%  0.1693% -1.0837%   \n",
       "2017-10-19 -1.1723% -0.3845% -0.5796%  1.5228%  1.9337%  0.5747% -0.5916%   \n",
       "\n",
       "                 DE      HPQ      JCI  ...       NI     PCAR      PSA  \\\n",
       "Date                                   ...                              \n",
       "2017-10-13 -0.4591%  6.4216%  0.7248%  ...  0.1129% -0.3291%  0.8072%   \n",
       "2017-10-16 -0.1486%  0.3685%  0.1440%  ... -0.8647%  0.0275% -0.4576%   \n",
       "2017-10-17  0.7595% -1.1014% -1.3174%  ...  0.3034% -0.0137% -0.7722%   \n",
       "2017-10-18  0.0233%  0.7889% -1.3107%  ... -0.0756% -0.1376% -0.5605%   \n",
       "2017-10-19 -0.1554%  1.1050%  1.4265%  ...  1.2486%  1.6116%  0.2516%   \n",
       "\n",
       "                SEE        T      TGT      TMO      TXT       VZ     ZION  \n",
       "Date                                                                       \n",
       "2017-10-13  0.9288% -0.4462%  1.0965% -0.5016% -0.5416% -1.0134% -0.2568%  \n",
       "2017-10-16  0.2245%  1.3165% -1.1504% -0.5924%  0.1502%  0.4806%  0.4077%  \n",
       "2017-10-17 -0.8511%  0.1659%  0.0333% -1.3122% -0.5062%  0.6446% -1.7098%  \n",
       "2017-10-18 -0.4292% -1.4353% -0.2327%  0.2384%  0.9422%  0.5165%  0.3914%  \n",
       "2017-10-19  0.1815% -0.0560%  0.6663%  1.7017% -0.8774%  1.1511% -0.2599%  \n",
       "\n",
       "[5 rows x 25 columns]"
      ]
     },
     "metadata": {},
     "output_type": "display_data"
    }
   ],
   "source": [
    "#Calculating returns\n",
    "Y =  data[assets].pct_change().dropna()\n",
    "display(Y.head())"
   ]
  },
  {
   "cell_type": "code",
   "execution_count": 9,
   "metadata": {},
   "outputs": [
    {
     "data": {
      "text/html": [
       "<div>\n",
       "<style scoped>\n",
       "    .dataframe tbody tr th:only-of-type {\n",
       "        vertical-align: middle;\n",
       "    }\n",
       "\n",
       "    .dataframe tbody tr th {\n",
       "        vertical-align: top;\n",
       "    }\n",
       "\n",
       "    .dataframe thead th {\n",
       "        text-align: right;\n",
       "    }\n",
       "</style>\n",
       "<table border=\"1\" class=\"dataframe\">\n",
       "  <thead>\n",
       "    <tr style=\"text-align: right;\">\n",
       "      <th></th>\n",
       "      <th>APA</th>\n",
       "      <th>BA</th>\n",
       "      <th>BAX</th>\n",
       "      <th>BMY</th>\n",
       "      <th>CMCSA</th>\n",
       "      <th>CNP</th>\n",
       "      <th>CPB</th>\n",
       "      <th>DE</th>\n",
       "      <th>HPQ</th>\n",
       "      <th>JCI</th>\n",
       "      <th>...</th>\n",
       "      <th>NI</th>\n",
       "      <th>PCAR</th>\n",
       "      <th>PSA</th>\n",
       "      <th>SEE</th>\n",
       "      <th>T</th>\n",
       "      <th>TGT</th>\n",
       "      <th>TMO</th>\n",
       "      <th>TXT</th>\n",
       "      <th>VZ</th>\n",
       "      <th>ZION</th>\n",
       "    </tr>\n",
       "  </thead>\n",
       "  <tbody>\n",
       "    <tr>\n",
       "      <th>weights</th>\n",
       "      <td>0.0001%</td>\n",
       "      <td>0.0000%</td>\n",
       "      <td>0.0000%</td>\n",
       "      <td>0.0000%</td>\n",
       "      <td>0.0000%</td>\n",
       "      <td>0.0000%</td>\n",
       "      <td>2.2582%</td>\n",
       "      <td>23.5980%</td>\n",
       "      <td>0.0000%</td>\n",
       "      <td>0.0000%</td>\n",
       "      <td>...</td>\n",
       "      <td>0.0000%</td>\n",
       "      <td>0.0000%</td>\n",
       "      <td>4.5069%</td>\n",
       "      <td>0.0000%</td>\n",
       "      <td>0.0000%</td>\n",
       "      <td>22.0762%</td>\n",
       "      <td>24.1805%</td>\n",
       "      <td>0.0000%</td>\n",
       "      <td>0.0000%</td>\n",
       "      <td>0.0000%</td>\n",
       "    </tr>\n",
       "  </tbody>\n",
       "</table>\n",
       "<p>1 rows × 25 columns</p>\n",
       "</div>"
      ],
      "text/plain": [
       "            APA      BA     BAX     BMY   CMCSA     CNP     CPB       DE  \\\n",
       "weights 0.0001% 0.0000% 0.0000% 0.0000% 0.0000% 0.0000% 2.2582% 23.5980%   \n",
       "\n",
       "            HPQ     JCI  ...      NI    PCAR     PSA     SEE       T      TGT  \\\n",
       "weights 0.0000% 0.0000%  ... 0.0000% 0.0000% 4.5069% 0.0000% 0.0000% 22.0762%   \n",
       "\n",
       "             TMO     TXT      VZ    ZION  \n",
       "weights 24.1805% 0.0000% 0.0000% 0.0000%  \n",
       "\n",
       "[1 rows x 25 columns]"
      ]
     },
     "metadata": {},
     "output_type": "display_data"
    }
   ],
   "source": [
    "# Building the portfolio object\n",
    "port = rp.Portfolio(returns = Y)\n",
    "\n",
    "#Calculating optimal portfolio\n",
    "\n",
    "#Select method and estimate input parameters\n",
    "method_mu = 'hist' # method to estimate expected returns based on historical data\n",
    "method_cov = 'hist' # method to estimate covariance matrix based on historical data \n",
    "\n",
    "port.assets_stats(method_mu = method_mu, method_cov = method_cov, d = 0.94)\n",
    "\n",
    "#Estimate optimal portfolio\n",
    "model = \"Classic\" # Could be Classic (historical), BL (Black Litterman), or FM (FActor Model)\n",
    "rm = \"MV\" # Risk measure used, this time will be variance\n",
    "obj = 'Sharpe' # Objective function, could be MinRisk, MaxRet, Utility of Sharpe\n",
    "hist = True # Use historical scenarios for risk measures that depend on scenarios\n",
    "rf = 0 # Risk Free Rate\n",
    "l = 0 # Risk aversion factor, unly useful when objective is 'Utility'\n",
    "\n",
    "w = port.optimization(model=model, obj=obj, rf=rf, l=l, hist=hist)\n",
    "\n",
    "display(w.T)"
   ]
  },
  {
   "cell_type": "code",
   "execution_count": 11,
   "metadata": {},
   "outputs": [
    {
     "data": {
      "image/png": "[encoded data removed]",
      "text/plain": [
       "<Figure size 720x432 with 1 Axes>"
      ]
     },
     "metadata": {
      "filenames": {
       "image/png": "/Users/fercos/dev/ProgFin/_build/jupyter_execute/chapters/004_session Riskfolio-Lib _5_0.png"
      }
     },
     "output_type": "display_data"
    }
   ],
   "source": [
    "# Ploting the composition of the portfolio\n",
    "ax = rp.plot_pie(w=w, title='Sharpe Mean Variance', others=0.05, nrow=25, cmap='tab20',\n",
    "                height=6, width=10, ax=None)"
   ]
  },
  {
   "cell_type": "code",
   "execution_count": 12,
   "metadata": {},
   "outputs": [
    {
     "data": {
      "text/html": [
       "<div>\n",
       "<style scoped>\n",
       "    .dataframe tbody tr th:only-of-type {\n",
       "        vertical-align: middle;\n",
       "    }\n",
       "\n",
       "    .dataframe tbody tr th {\n",
       "        vertical-align: top;\n",
       "    }\n",
       "\n",
       "    .dataframe thead th {\n",
       "        text-align: right;\n",
       "    }\n",
       "</style>\n",
       "<table border=\"1\" class=\"dataframe\">\n",
       "  <thead>\n",
       "    <tr style=\"text-align: right;\">\n",
       "      <th></th>\n",
       "      <th>APA</th>\n",
       "      <th>BA</th>\n",
       "      <th>BAX</th>\n",
       "      <th>BMY</th>\n",
       "      <th>CMCSA</th>\n",
       "      <th>CNP</th>\n",
       "      <th>CPB</th>\n",
       "      <th>DE</th>\n",
       "      <th>HPQ</th>\n",
       "      <th>JCI</th>\n",
       "      <th>...</th>\n",
       "      <th>NI</th>\n",
       "      <th>PCAR</th>\n",
       "      <th>PSA</th>\n",
       "      <th>SEE</th>\n",
       "      <th>T</th>\n",
       "      <th>TGT</th>\n",
       "      <th>TMO</th>\n",
       "      <th>TXT</th>\n",
       "      <th>VZ</th>\n",
       "      <th>ZION</th>\n",
       "    </tr>\n",
       "  </thead>\n",
       "  <tbody>\n",
       "    <tr>\n",
       "      <th>0</th>\n",
       "      <td>0.0000%</td>\n",
       "      <td>0.0000%</td>\n",
       "      <td>3.6579%</td>\n",
       "      <td>16.6942%</td>\n",
       "      <td>0.0000%</td>\n",
       "      <td>0.0000%</td>\n",
       "      <td>13.2457%</td>\n",
       "      <td>0.0000%</td>\n",
       "      <td>0.0000%</td>\n",
       "      <td>0.0000%</td>\n",
       "      <td>...</td>\n",
       "      <td>0.0000%</td>\n",
       "      <td>5.6062%</td>\n",
       "      <td>13.7866%</td>\n",
       "      <td>0.6280%</td>\n",
       "      <td>0.0000%</td>\n",
       "      <td>1.9259%</td>\n",
       "      <td>4.3498%</td>\n",
       "      <td>0.0000%</td>\n",
       "      <td>30.5619%</td>\n",
       "      <td>0.0000%</td>\n",
       "    </tr>\n",
       "    <tr>\n",
       "      <th>1</th>\n",
       "      <td>0.0071%</td>\n",
       "      <td>0.0000%</td>\n",
       "      <td>0.0000%</td>\n",
       "      <td>10.8282%</td>\n",
       "      <td>0.0000%</td>\n",
       "      <td>0.0000%</td>\n",
       "      <td>15.6687%</td>\n",
       "      <td>8.9844%</td>\n",
       "      <td>0.0000%</td>\n",
       "      <td>0.0000%</td>\n",
       "      <td>...</td>\n",
       "      <td>0.0000%</td>\n",
       "      <td>0.0000%</td>\n",
       "      <td>16.3920%</td>\n",
       "      <td>0.0000%</td>\n",
       "      <td>0.0000%</td>\n",
       "      <td>9.1857%</td>\n",
       "      <td>13.2680%</td>\n",
       "      <td>0.0000%</td>\n",
       "      <td>13.3277%</td>\n",
       "      <td>0.0000%</td>\n",
       "    </tr>\n",
       "    <tr>\n",
       "      <th>2</th>\n",
       "      <td>0.0463%</td>\n",
       "      <td>0.0000%</td>\n",
       "      <td>0.0000%</td>\n",
       "      <td>7.0434%</td>\n",
       "      <td>0.0000%</td>\n",
       "      <td>0.0000%</td>\n",
       "      <td>16.2837%</td>\n",
       "      <td>12.7919%</td>\n",
       "      <td>0.0000%</td>\n",
       "      <td>0.0000%</td>\n",
       "      <td>...</td>\n",
       "      <td>0.0000%</td>\n",
       "      <td>0.0000%</td>\n",
       "      <td>17.0590%</td>\n",
       "      <td>0.0000%</td>\n",
       "      <td>0.0000%</td>\n",
       "      <td>12.0099%</td>\n",
       "      <td>16.5116%</td>\n",
       "      <td>0.0000%</td>\n",
       "      <td>3.1530%</td>\n",
       "      <td>0.0000%</td>\n",
       "    </tr>\n",
       "    <tr>\n",
       "      <th>3</th>\n",
       "      <td>0.1271%</td>\n",
       "      <td>0.0000%</td>\n",
       "      <td>0.0000%</td>\n",
       "      <td>1.4325%</td>\n",
       "      <td>0.0000%</td>\n",
       "      <td>0.0000%</td>\n",
       "      <td>15.0209%</td>\n",
       "      <td>16.1263%</td>\n",
       "      <td>0.0000%</td>\n",
       "      <td>0.0000%</td>\n",
       "      <td>...</td>\n",
       "      <td>0.0000%</td>\n",
       "      <td>0.0000%</td>\n",
       "      <td>16.1466%</td>\n",
       "      <td>0.0000%</td>\n",
       "      <td>0.0000%</td>\n",
       "      <td>14.5386%</td>\n",
       "      <td>19.7008%</td>\n",
       "      <td>0.0000%</td>\n",
       "      <td>0.0000%</td>\n",
       "      <td>0.0000%</td>\n",
       "    </tr>\n",
       "    <tr>\n",
       "      <th>4</th>\n",
       "      <td>0.2054%</td>\n",
       "      <td>0.0000%</td>\n",
       "      <td>0.0000%</td>\n",
       "      <td>0.0000%</td>\n",
       "      <td>0.0000%</td>\n",
       "      <td>0.0000%</td>\n",
       "      <td>11.2082%</td>\n",
       "      <td>19.1881%</td>\n",
       "      <td>0.0000%</td>\n",
       "      <td>0.0000%</td>\n",
       "      <td>...</td>\n",
       "      <td>0.0000%</td>\n",
       "      <td>0.0000%</td>\n",
       "      <td>13.2681%</td>\n",
       "      <td>0.0000%</td>\n",
       "      <td>0.0000%</td>\n",
       "      <td>17.3454%</td>\n",
       "      <td>22.1684%</td>\n",
       "      <td>0.0000%</td>\n",
       "      <td>0.0000%</td>\n",
       "      <td>0.0000%</td>\n",
       "    </tr>\n",
       "  </tbody>\n",
       "</table>\n",
       "<p>5 rows × 25 columns</p>\n",
       "</div>"
      ],
      "text/plain": [
       "      APA      BA     BAX      BMY   CMCSA     CNP      CPB       DE     HPQ  \\\n",
       "0 0.0000% 0.0000% 3.6579% 16.6942% 0.0000% 0.0000% 13.2457%  0.0000% 0.0000%   \n",
       "1 0.0071% 0.0000% 0.0000% 10.8282% 0.0000% 0.0000% 15.6687%  8.9844% 0.0000%   \n",
       "2 0.0463% 0.0000% 0.0000%  7.0434% 0.0000% 0.0000% 16.2837% 12.7919% 0.0000%   \n",
       "3 0.1271% 0.0000% 0.0000%  1.4325% 0.0000% 0.0000% 15.0209% 16.1263% 0.0000%   \n",
       "4 0.2054% 0.0000% 0.0000%  0.0000% 0.0000% 0.0000% 11.2082% 19.1881% 0.0000%   \n",
       "\n",
       "      JCI  ...      NI    PCAR      PSA     SEE       T      TGT      TMO  \\\n",
       "0 0.0000%  ... 0.0000% 5.6062% 13.7866% 0.6280% 0.0000%  1.9259%  4.3498%   \n",
       "1 0.0000%  ... 0.0000% 0.0000% 16.3920% 0.0000% 0.0000%  9.1857% 13.2680%   \n",
       "2 0.0000%  ... 0.0000% 0.0000% 17.0590% 0.0000% 0.0000% 12.0099% 16.5116%   \n",
       "3 0.0000%  ... 0.0000% 0.0000% 16.1466% 0.0000% 0.0000% 14.5386% 19.7008%   \n",
       "4 0.0000%  ... 0.0000% 0.0000% 13.2681% 0.0000% 0.0000% 17.3454% 22.1684%   \n",
       "\n",
       "      TXT       VZ    ZION  \n",
       "0 0.0000% 30.5619% 0.0000%  \n",
       "1 0.0000% 13.3277% 0.0000%  \n",
       "2 0.0000%  3.1530% 0.0000%  \n",
       "3 0.0000%  0.0000% 0.0000%  \n",
       "4 0.0000%  0.0000% 0.0000%  \n",
       "\n",
       "[5 rows x 25 columns]"
      ]
     },
     "metadata": {},
     "output_type": "display_data"
    }
   ],
   "source": [
    "# Calculate de efficient frontier\n",
    "points = 50 # Number of points in the frontier\n",
    "frontier = port.efficient_frontier(model=model, rm=rm, points=points, rf=rf, hist=hist)\n",
    "display(frontier.T.head())"
   ]
  },
  {
   "cell_type": "code",
   "execution_count": 14,
   "metadata": {},
   "outputs": [
    {
     "data": {
      "image/png": "[encoded data removed]",
      "text/plain": [
       "<Figure size 720x432 with 2 Axes>"
      ]
     },
     "metadata": {
      "filenames": {
       "image/png": "/Users/fercos/dev/ProgFin/_build/jupyter_execute/chapters/004_session Riskfolio-Lib _7_0.png"
      },
      "needs_background": "light"
     },
     "output_type": "display_data"
    }
   ],
   "source": [
    "# Plotting the efficient frontier\n",
    "\n",
    "label = 'Max Risk Adjusted Return Portfolio'\n",
    "mu = port.mu # Expected returns\n",
    "cov = port.cov # Covariance matrix\n",
    "returns = port.returns # Returns of assets\n",
    "\n",
    "ax = rp.plot_frontier(w_frontier=frontier, mu=mu, cov=cov, returns=returns, rm=rm, rf=rf, \n",
    "                    alpha=0.05, cmap='viridis', w=w, label=label, marker='*', s=16, c='r', \n",
    "                    height=6, width=10, ax=None)"
   ]
  }
 ],
 "metadata": {
  "kernelspec": {
   "display_name": "Python 3.9.12 ('progfin')",
   "language": "python",
   "name": "python3"
  },
  "language_info": {
   "codemirror_mode": {
    "name": "ipython",
    "version": 3
   },
   "file_extension": ".py",
   "mimetype": "text/x-python",
   "name": "python",
   "nbconvert_exporter": "python",
   "pygments_lexer": "ipython3",
   "version": "3.9.15"
  },
  "vscode": {
   "interpreter": {
    "hash": "c8d1524f2d7978f0af6c708b78e553d377be34eeed69628e4260b333d94b895a"
   }
  }
 },
 "nbformat": 4,
 "nbformat_minor": 2
}