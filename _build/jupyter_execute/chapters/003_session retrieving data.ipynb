{
 "cells": [
  {
   "cell_type": "code",
   "execution_count": 1,
   "metadata": {},
   "outputs": [],
   "source": [
    "# Portfolio Optimization"
   ]
  },
  {
   "cell_type": "code",
   "execution_count": 2,
   "metadata": {},
   "outputs": [
    {
     "name": "stdout",
     "output_type": "stream",
     "text": [
      "Requirement already satisfied: pandas_datareader in /Users/fercos/miniconda3/envs/progfin/lib/python3.9/site-packages (0.10.0)\r\n",
      "Requirement already satisfied: pandas>=0.23 in /Users/fercos/miniconda3/envs/progfin/lib/python3.9/site-packages (from pandas_datareader) (1.5.2)\r\n",
      "Requirement already satisfied: requests>=2.19.0 in /Users/fercos/miniconda3/envs/progfin/lib/python3.9/site-packages (from pandas_datareader) (2.28.1)\r\n",
      "Requirement already satisfied: lxml in /Users/fercos/miniconda3/envs/progfin/lib/python3.9/site-packages (from pandas_datareader) (4.9.1)\r\n",
      "Requirement already satisfied: pytz>=2020.1 in /Users/fercos/miniconda3/envs/progfin/lib/python3.9/site-packages (from pandas>=0.23->pandas_datareader) (2022.6)\r\n",
      "Requirement already satisfied: python-dateutil>=2.8.1 in /Users/fercos/miniconda3/envs/progfin/lib/python3.9/site-packages (from pandas>=0.23->pandas_datareader) (2.8.2)\r\n",
      "Requirement already satisfied: numpy>=1.20.3 in /Users/fercos/miniconda3/envs/progfin/lib/python3.9/site-packages (from pandas>=0.23->pandas_datareader) (1.23.5)\r\n",
      "Requirement already satisfied: charset-normalizer<3,>=2 in /Users/fercos/miniconda3/envs/progfin/lib/python3.9/site-packages (from requests>=2.19.0->pandas_datareader) (2.1.1)\r\n",
      "Requirement already satisfied: idna<4,>=2.5 in /Users/fercos/miniconda3/envs/progfin/lib/python3.9/site-packages (from requests>=2.19.0->pandas_datareader) (3.4)\r\n",
      "Requirement already satisfied: urllib3<1.27,>=1.21.1 in /Users/fercos/miniconda3/envs/progfin/lib/python3.9/site-packages (from requests>=2.19.0->pandas_datareader) (1.26.13)\r\n"
     ]
    },
    {
     "name": "stdout",
     "output_type": "stream",
     "text": [
      "Requirement already satisfied: certifi>=2017.4.17 in /Users/fercos/miniconda3/envs/progfin/lib/python3.9/site-packages (from requests>=2.19.0->pandas_datareader) (2022.9.24)\r\n",
      "Requirement already satisfied: six>=1.5 in /Users/fercos/miniconda3/envs/progfin/lib/python3.9/site-packages (from python-dateutil>=2.8.1->pandas>=0.23->pandas_datareader) (1.16.0)\r\n"
     ]
    }
   ],
   "source": [
    "! pip install pandas_datareader"
   ]
  },
  {
   "cell_type": "code",
   "execution_count": 3,
   "metadata": {},
   "outputs": [],
   "source": [
    "# import the necessary libraries \n",
    "from pandas_datareader.data import DataReader\n",
    "from datetime import datetime, timedelta\n",
    "import pandas as pd\n",
    "import numpy as np"
   ]
  },
  {
   "cell_type": "code",
   "execution_count": 4,
   "metadata": {},
   "outputs": [
    {
     "name": "stdout",
     "output_type": "stream",
     "text": [
      "2022-12-08 06:13:36.162306\n",
      "2017-12-09 06:13:36.162306\n"
     ]
    }
   ],
   "source": [
    "#create the formula to get the dates of the last 5 years.\n",
    "five_years = timedelta(days=365*5, )\n",
    "now = datetime.now()\n",
    "five_years_ago = now - five_years\n",
    "print(now)\n",
    "print(five_years_ago)"
   ]
  },
  {
   "cell_type": "code",
   "execution_count": 5,
   "metadata": {},
   "outputs": [],
   "source": [
    "ticker = 'GOOG'\n",
    "data_source = 'yahoo'\n",
    "goog = DataReader(ticker, data_source, five_years_ago, now)"
   ]
  },
  {
   "cell_type": "code",
   "execution_count": 6,
   "metadata": {},
   "outputs": [],
   "source": [
    "ticker = 'CEMEXCPO.MX'\n",
    "data_source = 'yahoo'\n",
    "cemex = DataReader(ticker, data_source, five_years_ago, now)"
   ]
  },
  {
   "cell_type": "code",
   "execution_count": 7,
   "metadata": {},
   "outputs": [],
   "source": [
    "ticker = 'MXN=X'\n",
    "data_source = 'yahoo'\n",
    "mxn = DataReader(ticker, data_source, five_years_ago, now)"
   ]
  },
  {
   "cell_type": "code",
   "execution_count": 8,
   "metadata": {},
   "outputs": [],
   "source": [
    "df = pd.DataFrame({\"goog\":goog.Close, \"cemex\":cemex.Close, 'mxn':mxn['Close']})\n",
    "# drop rows where all columns in subset are NA\n",
    "df = df.dropna(axis=0, how='all', subset=('goog', 'cemex'))\n",
    "# fill with the value of the previous date's values\n",
    "df = df.fillna(method='ffill')\n",
    "# in case there are empty rows at the beginning, fill with following date's values\n",
    "df = df.fillna(method='bfill')"
   ]
  },
  {
   "cell_type": "code",
   "execution_count": 9,
   "metadata": {},
   "outputs": [],
   "source": [
    "#Add a column with google prices in MXN\n",
    "df['goog_mxn'] = df.goog * df.mxn"
   ]
  },
  {
   "cell_type": "code",
   "execution_count": 10,
   "metadata": {},
   "outputs": [
    {
     "ename": "ImportError",
     "evalue": "matplotlib is required for plotting when the default backend \"matplotlib\" is selected.",
     "output_type": "error",
     "traceback": [
      "\u001b[0;31m---------------------------------------------------------------------------\u001b[0m",
      "\u001b[0;31mImportError\u001b[0m                               Traceback (most recent call last)",
      "Cell \u001b[0;32mIn[10], line 1\u001b[0m\n\u001b[0;32m----> 1\u001b[0m \u001b[43mdf\u001b[49m\u001b[38;5;241;43m.\u001b[39;49m\u001b[43mplot\u001b[49m\u001b[43m(\u001b[49m\u001b[43my\u001b[49m\u001b[38;5;241;43m=\u001b[39;49m\u001b[43m[\u001b[49m\u001b[38;5;124;43m'\u001b[39;49m\u001b[38;5;124;43mgoog_mxn\u001b[39;49m\u001b[38;5;124;43m'\u001b[39;49m\u001b[43m,\u001b[49m\u001b[43m \u001b[49m\u001b[38;5;124;43m\"\u001b[39;49m\u001b[38;5;124;43mcemex\u001b[39;49m\u001b[38;5;124;43m\"\u001b[39;49m\u001b[43m]\u001b[49m\u001b[43m)\u001b[49m\n",
      "File \u001b[0;32m~/miniconda3/envs/progfin/lib/python3.9/site-packages/pandas/plotting/_core.py:920\u001b[0m, in \u001b[0;36mPlotAccessor.__call__\u001b[0;34m(self, *args, **kwargs)\u001b[0m\n\u001b[1;32m    919\u001b[0m \u001b[38;5;28;01mdef\u001b[39;00m \u001b[38;5;21m__call__\u001b[39m(\u001b[38;5;28mself\u001b[39m, \u001b[38;5;241m*\u001b[39margs, \u001b[38;5;241m*\u001b[39m\u001b[38;5;241m*\u001b[39mkwargs):\n\u001b[0;32m--> 920\u001b[0m     plot_backend \u001b[38;5;241m=\u001b[39m \u001b[43m_get_plot_backend\u001b[49m\u001b[43m(\u001b[49m\u001b[43mkwargs\u001b[49m\u001b[38;5;241;43m.\u001b[39;49m\u001b[43mpop\u001b[49m\u001b[43m(\u001b[49m\u001b[38;5;124;43m\"\u001b[39;49m\u001b[38;5;124;43mbackend\u001b[39;49m\u001b[38;5;124;43m\"\u001b[39;49m\u001b[43m,\u001b[49m\u001b[43m \u001b[49m\u001b[38;5;28;43;01mNone\u001b[39;49;00m\u001b[43m)\u001b[49m\u001b[43m)\u001b[49m\n\u001b[1;32m    922\u001b[0m     x, y, kind, kwargs \u001b[38;5;241m=\u001b[39m \u001b[38;5;28mself\u001b[39m\u001b[38;5;241m.\u001b[39m_get_call_args(\n\u001b[1;32m    923\u001b[0m         plot_backend\u001b[38;5;241m.\u001b[39m\u001b[38;5;18m__name__\u001b[39m, \u001b[38;5;28mself\u001b[39m\u001b[38;5;241m.\u001b[39m_parent, args, kwargs\n\u001b[1;32m    924\u001b[0m     )\n\u001b[1;32m    926\u001b[0m     kind \u001b[38;5;241m=\u001b[39m \u001b[38;5;28mself\u001b[39m\u001b[38;5;241m.\u001b[39m_kind_aliases\u001b[38;5;241m.\u001b[39mget(kind, kind)\n",
      "File \u001b[0;32m~/miniconda3/envs/progfin/lib/python3.9/site-packages/pandas/plotting/_core.py:1898\u001b[0m, in \u001b[0;36m_get_plot_backend\u001b[0;34m(backend)\u001b[0m\n\u001b[1;32m   1895\u001b[0m \u001b[38;5;28;01mif\u001b[39;00m backend_str \u001b[38;5;129;01min\u001b[39;00m _backends:\n\u001b[1;32m   1896\u001b[0m     \u001b[38;5;28;01mreturn\u001b[39;00m _backends[backend_str]\n\u001b[0;32m-> 1898\u001b[0m module \u001b[38;5;241m=\u001b[39m \u001b[43m_load_backend\u001b[49m\u001b[43m(\u001b[49m\u001b[43mbackend_str\u001b[49m\u001b[43m)\u001b[49m\n\u001b[1;32m   1899\u001b[0m _backends[backend_str] \u001b[38;5;241m=\u001b[39m module\n\u001b[1;32m   1900\u001b[0m \u001b[38;5;28;01mreturn\u001b[39;00m module\n",
      "File \u001b[0;32m~/miniconda3/envs/progfin/lib/python3.9/site-packages/pandas/plotting/_core.py:1829\u001b[0m, in \u001b[0;36m_load_backend\u001b[0;34m(backend)\u001b[0m\n\u001b[1;32m   1827\u001b[0m         module \u001b[38;5;241m=\u001b[39m importlib\u001b[38;5;241m.\u001b[39mimport_module(\u001b[38;5;124m\"\u001b[39m\u001b[38;5;124mpandas.plotting._matplotlib\u001b[39m\u001b[38;5;124m\"\u001b[39m)\n\u001b[1;32m   1828\u001b[0m     \u001b[38;5;28;01mexcept\u001b[39;00m \u001b[38;5;167;01mImportError\u001b[39;00m:\n\u001b[0;32m-> 1829\u001b[0m         \u001b[38;5;28;01mraise\u001b[39;00m \u001b[38;5;167;01mImportError\u001b[39;00m(\n\u001b[1;32m   1830\u001b[0m             \u001b[38;5;124m\"\u001b[39m\u001b[38;5;124mmatplotlib is required for plotting when the \u001b[39m\u001b[38;5;124m\"\u001b[39m\n\u001b[1;32m   1831\u001b[0m             \u001b[38;5;124m'\u001b[39m\u001b[38;5;124mdefault backend \u001b[39m\u001b[38;5;124m\"\u001b[39m\u001b[38;5;124mmatplotlib\u001b[39m\u001b[38;5;124m\"\u001b[39m\u001b[38;5;124m is selected.\u001b[39m\u001b[38;5;124m'\u001b[39m\n\u001b[1;32m   1832\u001b[0m         ) \u001b[38;5;28;01mfrom\u001b[39;00m \u001b[38;5;28mNone\u001b[39m\n\u001b[1;32m   1833\u001b[0m     \u001b[38;5;28;01mreturn\u001b[39;00m module\n\u001b[1;32m   1835\u001b[0m found_backend \u001b[38;5;241m=\u001b[39m \u001b[38;5;28;01mFalse\u001b[39;00m\n",
      "\u001b[0;31mImportError\u001b[0m: matplotlib is required for plotting when the default backend \"matplotlib\" is selected."
     ]
    }
   ],
   "source": [
    "df.plot(y=['goog_mxn', \"cemex\"])"
   ]
  },
  {
   "cell_type": "code",
   "execution_count": 45,
   "metadata": {},
   "outputs": [
    {
     "data": {
      "text/html": [
       "<div>\n",
       "<style scoped>\n",
       "    .dataframe tbody tr th:only-of-type {\n",
       "        vertical-align: middle;\n",
       "    }\n",
       "\n",
       "    .dataframe tbody tr th {\n",
       "        vertical-align: top;\n",
       "    }\n",
       "\n",
       "    .dataframe thead th {\n",
       "        text-align: right;\n",
       "    }\n",
       "</style>\n",
       "<table border=\"1\" class=\"dataframe\">\n",
       "  <thead>\n",
       "    <tr style=\"text-align: right;\">\n",
       "      <th></th>\n",
       "      <th>goog</th>\n",
       "      <th>cemex</th>\n",
       "      <th>mxn</th>\n",
       "      <th>goog_mxn</th>\n",
       "    </tr>\n",
       "  </thead>\n",
       "  <tbody>\n",
       "    <tr>\n",
       "      <th>goog</th>\n",
       "      <td>1.000000</td>\n",
       "      <td>0.315687</td>\n",
       "      <td>0.251548</td>\n",
       "      <td>0.992714</td>\n",
       "    </tr>\n",
       "    <tr>\n",
       "      <th>cemex</th>\n",
       "      <td>0.315687</td>\n",
       "      <td>1.000000</td>\n",
       "      <td>-0.393965</td>\n",
       "      <td>0.259684</td>\n",
       "    </tr>\n",
       "    <tr>\n",
       "      <th>mxn</th>\n",
       "      <td>0.251548</td>\n",
       "      <td>-0.393965</td>\n",
       "      <td>1.000000</td>\n",
       "      <td>0.363507</td>\n",
       "    </tr>\n",
       "    <tr>\n",
       "      <th>goog_mxn</th>\n",
       "      <td>0.992714</td>\n",
       "      <td>0.259684</td>\n",
       "      <td>0.363507</td>\n",
       "      <td>1.000000</td>\n",
       "    </tr>\n",
       "  </tbody>\n",
       "</table>\n",
       "</div>"
      ],
      "text/plain": [
       "              goog     cemex       mxn  goog_mxn\n",
       "goog      1.000000  0.315687  0.251548  0.992714\n",
       "cemex     0.315687  1.000000 -0.393965  0.259684\n",
       "mxn       0.251548 -0.393965  1.000000  0.363507\n",
       "goog_mxn  0.992714  0.259684  0.363507  1.000000"
      ]
     },
     "execution_count": 45,
     "metadata": {},
     "output_type": "execute_result"
    }
   ],
   "source": [
    "df.corr()"
   ]
  },
  {
   "cell_type": "code",
   "execution_count": 46,
   "metadata": {},
   "outputs": [
    {
     "data": {
      "text/html": [
       "<div>\n",
       "<style scoped>\n",
       "    .dataframe tbody tr th:only-of-type {\n",
       "        vertical-align: middle;\n",
       "    }\n",
       "\n",
       "    .dataframe tbody tr th {\n",
       "        vertical-align: top;\n",
       "    }\n",
       "\n",
       "    .dataframe thead th {\n",
       "        text-align: right;\n",
       "    }\n",
       "</style>\n",
       "<table border=\"1\" class=\"dataframe\">\n",
       "  <thead>\n",
       "    <tr style=\"text-align: right;\">\n",
       "      <th></th>\n",
       "      <th>goog</th>\n",
       "      <th>cemex</th>\n",
       "      <th>mxn</th>\n",
       "      <th>goog_mxn</th>\n",
       "    </tr>\n",
       "  </thead>\n",
       "  <tbody>\n",
       "    <tr>\n",
       "      <th>goog</th>\n",
       "      <td>1036.240835</td>\n",
       "      <td>34.293096</td>\n",
       "      <td>10.093320</td>\n",
       "      <td>21605.309341</td>\n",
       "    </tr>\n",
       "    <tr>\n",
       "      <th>cemex</th>\n",
       "      <td>34.293096</td>\n",
       "      <td>11.387800</td>\n",
       "      <td>-1.657147</td>\n",
       "      <td>592.477451</td>\n",
       "    </tr>\n",
       "    <tr>\n",
       "      <th>mxn</th>\n",
       "      <td>10.093320</td>\n",
       "      <td>-1.657147</td>\n",
       "      <td>1.553699</td>\n",
       "      <td>306.339288</td>\n",
       "    </tr>\n",
       "    <tr>\n",
       "      <th>goog_mxn</th>\n",
       "      <td>21605.309341</td>\n",
       "      <td>592.477451</td>\n",
       "      <td>306.339288</td>\n",
       "      <td>457100.805848</td>\n",
       "    </tr>\n",
       "  </tbody>\n",
       "</table>\n",
       "</div>"
      ],
      "text/plain": [
       "                  goog       cemex         mxn       goog_mxn\n",
       "goog       1036.240835   34.293096   10.093320   21605.309341\n",
       "cemex        34.293096   11.387800   -1.657147     592.477451\n",
       "mxn          10.093320   -1.657147    1.553699     306.339288\n",
       "goog_mxn  21605.309341  592.477451  306.339288  457100.805848"
      ]
     },
     "execution_count": 46,
     "metadata": {},
     "output_type": "execute_result"
    }
   ],
   "source": [
    "df.cov()"
   ]
  },
  {
   "cell_type": "code",
   "execution_count": 47,
   "metadata": {},
   "outputs": [
    {
     "data": {
      "text/plain": [
       "goog         32.190695\n",
       "cemex         3.374582\n",
       "mxn           1.246475\n",
       "goog_mxn    676.092306\n",
       "dtype: float64"
      ]
     },
     "execution_count": 47,
     "metadata": {},
     "output_type": "execute_result"
    }
   ],
   "source": [
    "df.std()"
   ]
  },
  {
   "cell_type": "code",
   "execution_count": 49,
   "metadata": {},
   "outputs": [
    {
     "data": {
      "text/plain": [
       "goog          511.011439\n",
       "cemex          53.569821\n",
       "mxn            19.787171\n",
       "goog_mxn    10732.632625\n",
       "dtype: float64"
      ]
     },
     "execution_count": 49,
     "metadata": {},
     "output_type": "execute_result"
    }
   ],
   "source": [
    "df.std() * np.sqrt(252)"
   ]
  },
  {
   "cell_type": "code",
   "execution_count": 53,
   "metadata": {},
   "outputs": [],
   "source": [
    "df['goog_mxn_change'] = df.goog_mxn.pct_change()"
   ]
  },
  {
   "cell_type": "code",
   "execution_count": 59,
   "metadata": {},
   "outputs": [],
   "source": [
    "df.to_excel('example.xlsx')"
   ]
  },
  {
   "cell_type": "code",
   "execution_count": null,
   "metadata": {},
   "outputs": [],
   "source": []
  }
 ],
 "metadata": {
  "kernelspec": {
   "display_name": "Python 3.9.12 ('progfin')",
   "language": "python",
   "name": "python3"
  },
  "language_info": {
   "codemirror_mode": {
    "name": "ipython",
    "version": 3
   },
   "file_extension": ".py",
   "mimetype": "text/x-python",
   "name": "python",
   "nbconvert_exporter": "python",
   "pygments_lexer": "ipython3",
   "version": "3.9.15"
  },
  "vscode": {
   "interpreter": {
    "hash": "c8d1524f2d7978f0af6c708b78e553d377be34eeed69628e4260b333d94b895a"
   }
  }
 },
 "nbformat": 4,
 "nbformat_minor": 2
}