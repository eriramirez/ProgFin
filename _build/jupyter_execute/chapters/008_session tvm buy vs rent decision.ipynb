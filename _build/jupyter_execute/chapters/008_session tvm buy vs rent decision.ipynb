{
 "cells": [
  {
   "cell_type": "markdown",
   "metadata": {},
   "source": [
    "# Time Value Of Money\n",
    "The Buy vs Rent Decision"
   ]
  },
  {
   "cell_type": "markdown",
   "metadata": {},
   "source": [
    "## Inputs for determining the amount of the Loan"
   ]
  },
  {
   "cell_type": "code",
   "execution_count": 1,
   "metadata": {},
   "outputs": [
    {
     "ename": "NameError",
     "evalue": "name 'house_price' is not defined",
     "output_type": "error",
     "traceback": [
      "\u001b[0;31m---------------------------------------------------------------------------\u001b[0m",
      "\u001b[0;31mNameError\u001b[0m                                 Traceback (most recent call last)",
      "Cell \u001b[0;32mIn[1], line 4\u001b[0m\n\u001b[1;32m      2\u001b[0m property_price \u001b[38;5;241m=\u001b[39m \u001b[38;5;241m600000\u001b[39m\n\u001b[1;32m      3\u001b[0m down_payment \u001b[38;5;241m=\u001b[39m \u001b[38;5;241m.20\u001b[39m\n\u001b[0;32m----> 4\u001b[0m loan \u001b[38;5;241m=\u001b[39m \u001b[43mhouse_price\u001b[49m\u001b[38;5;241m*\u001b[39m(\u001b[38;5;241m1\u001b[39m\u001b[38;5;241m-\u001b[39mdown_payment)\n\u001b[1;32m      5\u001b[0m \u001b[38;5;28mprint\u001b[39m(\u001b[38;5;124mf\u001b[39m\u001b[38;5;124m\"\u001b[39m\u001b[38;5;124mThe loan is valued at \u001b[39m\u001b[38;5;132;01m{\u001b[39;00mloan\u001b[38;5;132;01m:\u001b[39;00m\u001b[38;5;124m4.2f\u001b[39m\u001b[38;5;132;01m}\u001b[39;00m\u001b[38;5;124m USD\u001b[39m\u001b[38;5;124m\"\u001b[39m)\n",
      "\u001b[0;31mNameError\u001b[0m: name 'house_price' is not defined"
     ]
    }
   ],
   "source": [
    "# Loan amount (loan):\n",
    "property_price = 600000\n",
    "down_payment = .20\n",
    "loan = house_price*(1-down_payment)\n",
    "print(f\"The loan is valued at {loan:4.2f} USD\")"
   ]
  },
  {
   "cell_type": "markdown",
   "metadata": {},
   "source": [
    "## Inputs for determining the monthly interest rate"
   ]
  },
  {
   "cell_type": "code",
   "execution_count": 27,
   "metadata": {},
   "outputs": [
    {
     "name": "stdout",
     "output_type": "stream",
     "text": [
      "The monthly efective rate is 0.3306 percent\n"
     ]
    }
   ],
   "source": [
    "# Monthly effective interest rate (i):\n",
    "ann_interest = .04\n",
    "#number of months in the capitalization period:\n",
    "compound_periods = 6\n",
    "# get effective monthly interest:\n",
    "i = ((1 + (ann_interest / 12 * compound_periods))**(1 / compound_periods)) - 1\n",
    "print(f\"The monthly efective rate is {i * 100:4.4f} percent\")"
   ]
  },
  {
   "cell_type": "markdown",
   "metadata": {},
   "source": [
    "## Inputs for determining the loan life in months"
   ]
  },
  {
   "cell_type": "code",
   "execution_count": 29,
   "metadata": {},
   "outputs": [
    {
     "name": "stdout",
     "output_type": "stream",
     "text": [
      "The credit will be paid in 300 months\n"
     ]
    }
   ],
   "source": [
    "# Get the loan life in months\n",
    "years = 25\n",
    "n = years *12\n",
    "print(f\"The credit will be paid in{n:4.0f} months\")"
   ]
  },
  {
   "cell_type": "markdown",
   "metadata": {},
   "source": [
    "##  Financing information\n",
    "### Obtain the monthly payment"
   ]
  },
  {
   "cell_type": "code",
   "execution_count": 31,
   "metadata": {},
   "outputs": [
    {
     "name": "stdout",
     "output_type": "stream",
     "text": [
      "2524.896985400441\n"
     ]
    }
   ],
   "source": [
    "def fnct_pmt(loan, i, n):\n",
    "    pmt = loan * i *(1 + i)**n / ((1 + i)**n - 1)\n",
    "    return pmt\n",
    "    \n",
    "print(fnct_pmt(loan, i, n))"
   ]
  },
  {
   "cell_type": "markdown",
   "metadata": {},
   "source": [
    "## Inputs for determining the opportunity cost"
   ]
  },
  {
   "cell_type": "code",
   "execution_count": 36,
   "metadata": {},
   "outputs": [
    {
     "name": "stdout",
     "output_type": "stream",
     "text": [
      "The initial disbursement from the own investment is 140000.00 USD\n",
      "And this will make to stop receiving interests of 462.82 USD monthly as opportunity cost\n"
     ]
    }
   ],
   "source": [
    "# Monthly opportunity Cost from initial disbursment due to the withdrawal from own invested resources:\n",
    "legal_costs = .00 #as percent of the property price\n",
    "buying_tax = .03 #as percent of the property price\n",
    "closing_fees = 2000 #in dollar cost\n",
    "initial_disbursement = (((legal_costs + buying_tax) * property_price) + closing_fees + down_payment*property_price)\n",
    "opportunity_cost = initial_disbursement * i\n",
    "print(f\"The initial disbursement from the own investment is {initial_disbursement:4.2f} USD\")\n",
    "print(f\"And this will make to stop receiving interests of {opportunity_cost:4.2f} USD monthly as opportunity cost\")"
   ]
  },
  {
   "cell_type": "code",
   "execution_count": 43,
   "metadata": {},
   "outputs": [
    {
     "name": "stdout",
     "output_type": "stream",
     "text": [
      "Total monthly disbursement during the life of the credit is 4392.72\n",
      "The investor should make an incremental disbursement of 1392.72 USD monthly in order to be the owner of the property\n"
     ]
    }
   ],
   "source": [
    "#Owner monthly disbursement if property is bought, inluding financial and opportunity costs\n",
    "condo_fees = 1055\n",
    "property_tax = 300\n",
    "maintenance_fee = 50\n",
    "\n",
    "tot_monthly_outflow = condo_fees + property_tax + maintenance_fee + fnct_pmt(loan, i, n) + opportunity_cost\n",
    "print(f\"Total monthly disbursement during the life of the credit is {tot_monthly_outflow:4.2f}\")\n",
    "\n",
    "monthly_rent = 3000\n",
    "\n",
    "#incremental monthly disbursement due to the acquisition of the property:\n",
    "incremental_payment = tot_monthly_outflow - monthly_rent\n",
    "print(f\"The investor should make an incremental disbursement of {incremental_payment:4.2f} USD monthly, in order to be the owner of the property\")\n"
   ]
  },
  {
   "cell_type": "markdown",
   "metadata": {},
   "source": [
    "### Let see if the incremental disbursement is worth compared to the selling price of the property in year 2, 5 or 10\n",
    "\n",
    "Scenarios:\n",
    "    A. The condo price remains unchanged\n",
    "    B. The condo price drops 10% over the next two years, then increases back to it's purchase price by the end of 5 years\n",
    "    C. The condo price increases annually by the annual rate of inflation of 2% over the next 10 years\n",
    "    D. The condo price increases annually by an annual rate of 5% over the next 10 years."
   ]
  },
  {
   "cell_type": "code",
   "execution_count": null,
   "metadata": {},
   "outputs": [],
   "source": []
  }
 ],
 "metadata": {
  "kernelspec": {
   "display_name": "Python 3.9.12 ('progfin')",
   "language": "python",
   "name": "python3"
  },
  "language_info": {
   "codemirror_mode": {
    "name": "ipython",
    "version": 3
   },
   "file_extension": ".py",
   "mimetype": "text/x-python",
   "name": "python",
   "nbconvert_exporter": "python",
   "pygments_lexer": "ipython3",
   "version": "3.9.15"
  },
  "vscode": {
   "interpreter": {
    "hash": "c8d1524f2d7978f0af6c708b78e553d377be34eeed69628e4260b333d94b895a"
   }
  }
 },
 "nbformat": 4,
 "nbformat_minor": 2
}