{
 "cells": [
  {
   "cell_type": "code",
   "execution_count": 1,
   "metadata": {},
   "outputs": [
    {
     "ename": "ModuleNotFoundError",
     "evalue": "No module named 'scipy'",
     "output_type": "error",
     "traceback": [
      "\u001b[0;31m---------------------------------------------------------------------------\u001b[0m",
      "\u001b[0;31mModuleNotFoundError\u001b[0m                       Traceback (most recent call last)",
      "Cell \u001b[0;32mIn[1], line 4\u001b[0m\n\u001b[1;32m      2\u001b[0m \u001b[38;5;28;01mimport\u001b[39;00m \u001b[38;5;21;01mpandas\u001b[39;00m \u001b[38;5;28;01mas\u001b[39;00m \u001b[38;5;21;01mpd\u001b[39;00m\n\u001b[1;32m      3\u001b[0m \u001b[38;5;28;01mimport\u001b[39;00m \u001b[38;5;21;01mpandas_datareader\u001b[39;00m\u001b[38;5;21;01m.\u001b[39;00m\u001b[38;5;21;01mdata\u001b[39;00m \u001b[38;5;28;01mas\u001b[39;00m \u001b[38;5;21;01mwb\u001b[39;00m\n\u001b[0;32m----> 4\u001b[0m \u001b[38;5;28;01mfrom\u001b[39;00m \u001b[38;5;21;01mscipy\u001b[39;00m\u001b[38;5;21;01m.\u001b[39;00m\u001b[38;5;21;01mstats\u001b[39;00m \u001b[38;5;28;01mimport\u001b[39;00m norm\n\u001b[1;32m      6\u001b[0m my_volat \u001b[38;5;241m=\u001b[39m \u001b[38;5;241m.28\u001b[39m\n\u001b[1;32m      7\u001b[0m my_time \u001b[38;5;241m=\u001b[39m \u001b[38;5;241m0.75\u001b[39m  \n",
      "\u001b[0;31mModuleNotFoundError\u001b[0m: No module named 'scipy'"
     ]
    }
   ],
   "source": [
    "import numpy as np\n",
    "import pandas as pd\n",
    "import pandas_datareader.data as wb\n",
    "from scipy.stats import norm\n",
    "\n",
    "my_volat = .28\n",
    "my_time = 0.75  \n",
    "my_excercise_price = 40\n",
    "my_market_price = 43.5\n",
    "my_rf_rate = .085\n",
    "\n",
    "def d1(my_market_price, my_excercise_price, my_rf_rate, my_volat, my_time) :\n",
    "    return (np.log(my_market_price/my_excercise_price) + ((my_rf_rate + my_volat**2)/2)*my_time) / (my_volat * np.sqrt(my_time))\n",
    "\n",
    "def d2(my_market_price, my_excercise_price, my_rf_rate, my_volat, my_time) :\n",
    "    return (np.log(my_market_price/my_excercise_price) + ((my_rf_rate - my_volat**2)/2)*my_time) / (my_volat * np.sqrt(my_time))\n",
    "\n",
    "def call(my_market_price, my_excercise_price, my_rf_rate, my_volat, my_time) :\n",
    "    d_uno = d1(my_market_price, my_excercise_price, my_rf_rate, my_volat, my_time)\n",
    "    d_dos = d2(my_market_price, my_excercise_price, my_rf_rate, my_volat, my_time)\n",
    "    return (my_market_price*norm.cdf(d_uno)) - (my_excercise_price*np.exp(-my_rf_rate*my_time)*norm.cdf(d_dos))\n",
    "\n",
    "def put(my_market_price, my_excercise_price, my_rf_rate, my_volat, my_time) :\n",
    "    d_uno = d1(my_market_price, my_excercise_price, my_rf_rate, my_volat, my_time)\n",
    "    d_dos = d2(my_market_price, my_excercise_price, my_rf_rate, my_volat, my_time)\n",
    "    return ((my_excercise_price*np.exp(-my_rf_rate*my_time)*norm.cdf(-d_dos)) - (my_market_price*norm.cdf(-d_uno)))\n",
    "\n",
    "call_price = call(\n",
    "    my_market_price,\n",
    "    my_excercise_price,\n",
    "    my_rf_rate,\n",
    "    my_volat,\n",
    "    my_time\n",
    ")\n",
    "\n",
    "put_price = put(\n",
    "    my_market_price,\n",
    "    my_excercise_price,\n",
    "    my_rf_rate,\n",
    "    my_volat,\n",
    "    my_time\n",
    ")\n",
    "print(f\"Precio Call: {call_price:.4f}\")\n",
    "print(f\"Precio Put: {put_price:.4f}\")\n",
    "\n"
   ]
  },
  {
   "cell_type": "code",
   "execution_count": null,
   "metadata": {},
   "outputs": [],
   "source": []
  }
 ],
 "metadata": {
  "kernelspec": {
   "display_name": "Python 3.9.12 ('progfin')",
   "language": "python",
   "name": "python3"
  },
  "language_info": {
   "codemirror_mode": {
    "name": "ipython",
    "version": 3
   },
   "file_extension": ".py",
   "mimetype": "text/x-python",
   "name": "python",
   "nbconvert_exporter": "python",
   "pygments_lexer": "ipython3",
   "version": "3.9.15"
  },
  "vscode": {
   "interpreter": {
    "hash": "c8d1524f2d7978f0af6c708b78e553d377be34eeed69628e4260b333d94b895a"
   }
  }
 },
 "nbformat": 4,
 "nbformat_minor": 2
}