{
 "cells": [
  {
   "cell_type": "code",
   "execution_count": 1,
   "metadata": {},
   "outputs": [
    {
     "name": "stdout",
     "output_type": "stream",
     "text": [
      "Requirement already satisfied: yfinance in /Users/fercos/miniconda3/envs/progfin/lib/python3.9/site-packages (0.1.87)\r\n",
      "Requirement already satisfied: requests>=2.26 in /Users/fercos/miniconda3/envs/progfin/lib/python3.9/site-packages (from yfinance) (2.28.1)\r\n",
      "Requirement already satisfied: multitasking>=0.0.7 in /Users/fercos/miniconda3/envs/progfin/lib/python3.9/site-packages (from yfinance) (0.0.11)\r\n",
      "Requirement already satisfied: numpy>=1.15 in /Users/fercos/miniconda3/envs/progfin/lib/python3.9/site-packages (from yfinance) (1.23.5)\r\n",
      "Requirement already satisfied: appdirs>=1.4.4 in /Users/fercos/miniconda3/envs/progfin/lib/python3.9/site-packages (from yfinance) (1.4.4)\r\n",
      "Requirement already satisfied: pandas>=0.24.0 in /Users/fercos/miniconda3/envs/progfin/lib/python3.9/site-packages (from yfinance) (1.5.2)\r\n",
      "Requirement already satisfied: lxml>=4.5.1 in /Users/fercos/miniconda3/envs/progfin/lib/python3.9/site-packages (from yfinance) (4.9.1)\r\n",
      "Requirement already satisfied: pytz>=2020.1 in /Users/fercos/miniconda3/envs/progfin/lib/python3.9/site-packages (from pandas>=0.24.0->yfinance) (2022.6)\r\n",
      "Requirement already satisfied: python-dateutil>=2.8.1 in /Users/fercos/miniconda3/envs/progfin/lib/python3.9/site-packages (from pandas>=0.24.0->yfinance) (2.8.2)\r\n"
     ]
    },
    {
     "name": "stdout",
     "output_type": "stream",
     "text": [
      "Requirement already satisfied: urllib3<1.27,>=1.21.1 in /Users/fercos/miniconda3/envs/progfin/lib/python3.9/site-packages (from requests>=2.26->yfinance) (1.26.13)\r\n",
      "Requirement already satisfied: idna<4,>=2.5 in /Users/fercos/miniconda3/envs/progfin/lib/python3.9/site-packages (from requests>=2.26->yfinance) (3.4)\r\n",
      "Requirement already satisfied: charset-normalizer<3,>=2 in /Users/fercos/miniconda3/envs/progfin/lib/python3.9/site-packages (from requests>=2.26->yfinance) (2.1.1)\r\n",
      "Requirement already satisfied: certifi>=2017.4.17 in /Users/fercos/miniconda3/envs/progfin/lib/python3.9/site-packages (from requests>=2.26->yfinance) (2022.9.24)\r\n",
      "Requirement already satisfied: six>=1.5 in /Users/fercos/miniconda3/envs/progfin/lib/python3.9/site-packages (from python-dateutil>=2.8.1->pandas>=0.24.0->yfinance) (1.16.0)\r\n"
     ]
    }
   ],
   "source": [
    "!pip install yfinance"
   ]
  },
  {
   "cell_type": "code",
   "execution_count": 2,
   "metadata": {},
   "outputs": [
    {
     "name": "stdout",
     "output_type": "stream",
     "text": [
      "Requirement already satisfied: pandas_datareader in /Users/fercos/miniconda3/envs/progfin/lib/python3.9/site-packages (0.10.0)\r\n",
      "Requirement already satisfied: pandas>=0.23 in /Users/fercos/miniconda3/envs/progfin/lib/python3.9/site-packages (from pandas_datareader) (1.5.2)\r\n",
      "Requirement already satisfied: requests>=2.19.0 in /Users/fercos/miniconda3/envs/progfin/lib/python3.9/site-packages (from pandas_datareader) (2.28.1)\r\n",
      "Requirement already satisfied: lxml in /Users/fercos/miniconda3/envs/progfin/lib/python3.9/site-packages (from pandas_datareader) (4.9.1)\r\n",
      "Requirement already satisfied: numpy>=1.20.3 in /Users/fercos/miniconda3/envs/progfin/lib/python3.9/site-packages (from pandas>=0.23->pandas_datareader) (1.23.5)\r\n",
      "Requirement already satisfied: pytz>=2020.1 in /Users/fercos/miniconda3/envs/progfin/lib/python3.9/site-packages (from pandas>=0.23->pandas_datareader) (2022.6)\r\n",
      "Requirement already satisfied: python-dateutil>=2.8.1 in /Users/fercos/miniconda3/envs/progfin/lib/python3.9/site-packages (from pandas>=0.23->pandas_datareader) (2.8.2)\r\n",
      "Requirement already satisfied: charset-normalizer<3,>=2 in /Users/fercos/miniconda3/envs/progfin/lib/python3.9/site-packages (from requests>=2.19.0->pandas_datareader) (2.1.1)\r\n",
      "Requirement already satisfied: urllib3<1.27,>=1.21.1 in /Users/fercos/miniconda3/envs/progfin/lib/python3.9/site-packages (from requests>=2.19.0->pandas_datareader) (1.26.13)\r\n",
      "Requirement already satisfied: certifi>=2017.4.17 in /Users/fercos/miniconda3/envs/progfin/lib/python3.9/site-packages (from requests>=2.19.0->pandas_datareader) (2022.9.24)\r\n",
      "Requirement already satisfied: idna<4,>=2.5 in /Users/fercos/miniconda3/envs/progfin/lib/python3.9/site-packages (from requests>=2.19.0->pandas_datareader) (3.4)\r\n",
      "Requirement already satisfied: six>=1.5 in /Users/fercos/miniconda3/envs/progfin/lib/python3.9/site-packages (from python-dateutil>=2.8.1->pandas>=0.23->pandas_datareader) (1.16.0)\r\n"
     ]
    }
   ],
   "source": [
    "! pip install pandas_datareader"
   ]
  },
  {
   "cell_type": "code",
   "execution_count": 3,
   "metadata": {},
   "outputs": [],
   "source": [
    "import yfinance as yf\n",
    "from pandas_datareader.data import DataReader\n",
    "from datetime import datetime, timedelta\n",
    "import pandas as pd\n",
    "import numpy as np"
   ]
  },
  {
   "cell_type": "code",
   "execution_count": 4,
   "metadata": {},
   "outputs": [
    {
     "name": "stdout",
     "output_type": "stream",
     "text": [
      "2022-12-08 06:13:45.488019\n",
      "2017-12-09 06:13:45.488019\n"
     ]
    }
   ],
   "source": [
    "#create the formula to get the dates of the last 5 years.\n",
    "five_years = timedelta(days=365*5, )\n",
    "now = datetime.now()\n",
    "five_years_ago = now - five_years\n",
    "print(now)\n",
    "print(five_years_ago)"
   ]
  },
  {
   "cell_type": "code",
   "execution_count": null,
   "metadata": {},
   "outputs": [],
   "source": []
  },
  {
   "cell_type": "code",
   "execution_count": 5,
   "metadata": {},
   "outputs": [
    {
     "data": {
      "text/plain": [
       "{'GOOG': 'USD', 'GCC.MX': 'MXN'}"
      ]
     },
     "execution_count": 5,
     "metadata": {},
     "output_type": "execute_result"
    }
   ],
   "source": [
    "# Get currency\n",
    "def get_currency (*tickers):  # obtain the currency for each ticker\n",
    "    currencies = dict()\n",
    "    for ticker in tickers :\n",
    "        t = yf.Ticker(ticker)\n",
    "        currencies[ticker] = t.info[\"currency\"]\n",
    "    return currencies\n",
    "get_currency(\"GOOG\", \"GCC.MX\")\n"
   ]
  },
  {
   "cell_type": "code",
   "execution_count": 6,
   "metadata": {},
   "outputs": [
    {
     "ename": "IndentationError",
     "evalue": "expected an indented block (899003627.py, line 9)",
     "output_type": "error",
     "traceback": [
      "\u001b[0;36m  Cell \u001b[0;32mIn[6], line 9\u001b[0;36m\u001b[0m\n\u001b[0;31m    # crear un diccionario ( collections defaultdict )\u001b[0m\n\u001b[0m                                                      ^\u001b[0m\n\u001b[0;31mIndentationError\u001b[0m\u001b[0;31m:\u001b[0m expected an indented block\n"
     ]
    }
   ],
   "source": [
    "# Get tickers\n",
    "def get_tickers(*tickers): \n",
    "    for ticker in tickers :\n",
    "        \n",
    "        # retrieve data (como la sesión 003)\n",
    "        # revisar el tipo de cambio con yfinance de cada ticker\n",
    "        # hacer un for loop para unificar las acciones que tienen el mismo tipo de cambio\n",
    "\n",
    "# crear un diccionario ( collections defaultdict )\n"
   ]
  },
  {
   "cell_type": "code",
   "execution_count": null,
   "metadata": {},
   "outputs": [],
   "source": [
    "# Get Close Price for each ticker\n",
    "def get_close_price(*tickers) :\n",
    "    for "
   ]
  }
 ],
 "metadata": {
  "kernelspec": {
   "display_name": "Python 3.9.12 ('progfin')",
   "language": "python",
   "name": "python3"
  },
  "language_info": {
   "codemirror_mode": {
    "name": "ipython",
    "version": 3
   },
   "file_extension": ".py",
   "mimetype": "text/x-python",
   "name": "python",
   "nbconvert_exporter": "python",
   "pygments_lexer": "ipython3",
   "version": "3.9.15"
  },
  "vscode": {
   "interpreter": {
    "hash": "c8d1524f2d7978f0af6c708b78e553d377be34eeed69628e4260b333d94b895a"
   }
  }
 },
 "nbformat": 4,
 "nbformat_minor": 2
}