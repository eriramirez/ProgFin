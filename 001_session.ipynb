{
 "cells": [
  {
   "cell_type": "markdown",
   "metadata": {
    "slideshow": {
     "slide_type": "slide"
    }
   },
   "source": [
    "# Coding first examples"
   ]
  },
  {
   "cell_type": "code",
   "execution_count": 1,
   "metadata": {},
   "outputs": [],
   "source": [
    "from scipy.optimize import fsolve"
   ]
  },
  {
   "cell_type": "code",
   "execution_count": 2,
   "metadata": {
    "slideshow": {
     "slide_type": "subslide"
    }
   },
   "outputs": [
    {
     "name": "stdout",
     "output_type": "stream",
     "text": [
      "[0, 1, 1, 2, 3, 5, 8, 13, 21, 34, 55, 89, 144, 233, 377, 610, 987, 1597, 2584, 4181, 6765, 10946, 17711, 28657, 46368, 75025, 121393, 196418, 317811, 514229]\n"
     ]
    }
   ],
   "source": [
    "# Crear una serie de fibonacci\n",
    "n = 30\n",
    "fbci = [0, 1]\n",
    "for _ in range(2, n):\n",
    "    fbci.append(fbci[-1] + fbci[-2])\n",
    "print(fbci)"
   ]
  },
  {
   "cell_type": "code",
   "execution_count": 3,
   "metadata": {},
   "outputs": [
    {
     "name": "stdout",
     "output_type": "stream",
     "text": [
      "0\n",
      "1\n",
      "2\n",
      "3\n",
      "4\n",
      "5\n",
      "6\n",
      "7\n",
      "8\n",
      "9\n",
      "10\n",
      "11\n",
      "12\n",
      "13\n",
      "14\n",
      "15\n",
      "16\n",
      "17\n",
      "18\n",
      "19\n"
     ]
    }
   ],
   "source": [
    "for _ in range(20):\n",
    "    print(_)"
   ]
  },
  {
   "cell_type": "markdown",
   "metadata": {},
   "source": [
    "# Bond Price\n",
    "Now let's calculate the bond price using the Present Value of an annuity formula for the coupons + Present Value formula for the face value.\n",
    "\n",
    "First, we define a function with the following variables in this order:\n",
    "- Market Rate (annualized)\n",
    "- Coupon Rate (annualized)\n",
    "- Frequency of the coupons per year\n",
    "- Face Value\n",
    "- Time in years\n",
    " "
   ]
  },
  {
   "cell_type": "code",
   "execution_count": 40,
   "metadata": {
    "slideshow": {
     "slide_type": "slide"
    }
   },
   "outputs": [],
   "source": [
    "def get_bond_price(market_rate, interest_rate, frequency, face_value, years):\n",
    "    coupon = interest_rate / frequency * face_value\n",
    "    required_rate = market_rate / frequency\n",
    "    n_coupons = years * frequency\n",
    "    pv_coupon = coupon * ((1 - (1 + required_rate) ** (-n_coupons)) / required_rate)\n",
    "    pv_fv = face_value / (1 + required_rate) ** n_coupons\n",
    "    bond_price = pv_coupon + pv_fv\n",
    "    return bond_price\n"
   ]
  },
  {
   "cell_type": "markdown",
   "metadata": {},
   "source": [
    "Then, use the defined function to calculate the bonde price."
   ]
  },
  {
   "cell_type": "code",
   "execution_count": 48,
   "metadata": {},
   "outputs": [
    {
     "data": {
      "text/plain": [
       "94.50588891962919"
      ]
     },
     "execution_count": 48,
     "metadata": {},
     "output_type": "execute_result"
    }
   ],
   "source": [
    "bond_price = get_bond_price(.08,.05,4,100,2)\n",
    "bond_price"
   ]
  },
  {
   "cell_type": "markdown",
   "metadata": {},
   "source": [
    "# Find the Yield to Maturity of a Bond\n",
    "\n",
    "A different output that we could calculate is the YTM rate. Given that the formula cannot be symbolically solved we use numeric solving by doing multiple iterations. In this case we use `scipy.optimize.fsolve` function, which will perform the iterative search by itself.\n",
    "More details can be found [here](https://docs.scipy.org/doc/scipy/reference/generated/scipy.optimize.fsolve.html)\n",
    "\n",
    "First we need to define a function named `find_market_value` that wraps `fsolve` for convenience."
   ]
  },
  {
   "cell_type": "code",
   "execution_count": 44,
   "metadata": {},
   "outputs": [],
   "source": [
    "def function_to_solve(independant_variable, market_bond_price, interest_rate, frequency, face_value, years):\n",
    "    \"\"\"fsolve will use this method many times by modifying independant variable until it returns 0.\n",
    "    In other words, fsolve will find the roots of this method.\n",
    "\n",
    "    Args:\n",
    "        independant_variable (float): represents market_value.\n",
    "        fixed_params (list): all the other parameters that don't change.\n",
    "\n",
    "    Returns:\n",
    "        float: get_bond_price(independant_variable, *other_params) - market_bond_price\n",
    "    \"\"\"\n",
    "    return get_bond_price(independant_variable, interest_rate, frequency, face_value, years) - market_bond_price\n",
    "\n",
    "def find_market_rate(\n",
    "    market_bond_price:float,\n",
    "    initial_guess:float, \n",
    "    interest_rate:float, \n",
    "    frequency:float,\n",
    "    face_value:float, \n",
    "    years:float\n",
    "    ):\n",
    "    \"\"\"Solve the yield to maturity function for market_bond_price\n",
    "\n",
    "    Args:\n",
    "        market_bond_price (float): value to solve for\n",
    "        initial_guess (float): a guess of market_rate to initialize the numerical solver\n",
    "        interest_rate (float): interest coupon rate\n",
    "        frequency (float): coupons paid per year\n",
    "        face_value (float): nominal value at the future\n",
    "        years (float): life remaining of the bond in years\n",
    "    \"\"\"\n",
    "    \n",
    "    # fsolve only solves for f(x)=0, ... \n",
    "    \n",
    "    parameters = (market_bond_price, interest_rate, frequency, face_value, years)\n",
    "    return fsolve(function_to_solve, initial_guess, parameters)"
   ]
  },
  {
   "cell_type": "markdown",
   "metadata": {},
   "source": []
  },
  {
   "cell_type": "code",
   "execution_count": 49,
   "metadata": {},
   "outputs": [
    {
     "data": {
      "text/plain": [
       "array([0.08])"
      ]
     },
     "execution_count": 49,
     "metadata": {},
     "output_type": "execute_result"
    }
   ],
   "source": [
    "market_bond_price = bond_price\n",
    "\n",
    "ytm = find_market_rate(\n",
    "    market_bond_price = market_bond_price,\n",
    "    initial_guess=0.10,\n",
    "    interest_rate=0.05,\n",
    "    frequency=4,\n",
    "    face_value=100,\n",
    "    years=2\n",
    "    )\n",
    "\n",
    "ytm"
   ]
  },
  {
   "cell_type": "code",
   "execution_count": 29,
   "metadata": {},
   "outputs": [],
   "source": [
    "import matplotlib.pyplot as plt\n",
    "import numpy as np"
   ]
  },
  {
   "cell_type": "code",
   "execution_count": 30,
   "metadata": {},
   "outputs": [
    {
     "name": "stderr",
     "output_type": "stream",
     "text": [
      "C:\\Users\\L00616607\\AppData\\Local\\Temp\\ipykernel_40376\\47786939.py:7: RuntimeWarning: invalid value encountered in double_scalars\n",
      "  pv_coupon = coupon * ((1 - (1 + required_rate) ** (-n_coupons)) / required_rate)\n"
     ]
    },
    {
     "data": {
      "image/png": "[encoded data removed]",
      "text/plain": [
       "<Figure size 432x288 with 1 Axes>"
      ]
     },
     "metadata": {
      "needs_background": "light"
     },
     "output_type": "display_data"
    }
   ],
   "source": [
    "r = np.linspace(0, 0.10, 100)\n",
    "b = [get_bond_price(x, 0.05, 2, 100, 5) for x in r]\n",
    "plt.plot(r, b, label='bond price function')\n",
    "plt.scatter([mr], [market_bond_price], label=f'market rate @ {market_bond_price}')\n",
    "plt.legend()\n",
    "plt.show()"
   ]
  },
  {
   "cell_type": "code",
   "execution_count": null,
   "metadata": {},
   "outputs": [],
   "source": [
    "find_market_rate()"
   ]
  }
 ],
 "metadata": {
  "celltoolbar": "Slideshow",
  "kernelspec": {
   "display_name": "Python 3 (ipykernel)",
   "language": "python",
   "name": "python3"
  },
  "language_info": {
   "codemirror_mode": {
    "name": "ipython",
    "version": 3
   },
   "file_extension": ".py",
   "mimetype": "text/x-python",
   "name": "python",
   "nbconvert_exporter": "python",
   "pygments_lexer": "ipython3",
   "version": "3.9.12"
  },
  "vscode": {
   "interpreter": {
    "hash": "c8d1524f2d7978f0af6c708b78e553d377be34eeed69628e4260b333d94b895a"
   }
  }
 },
 "nbformat": 4,
 "nbformat_minor": 2
}
